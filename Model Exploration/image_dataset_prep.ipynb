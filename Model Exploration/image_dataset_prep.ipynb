{
 "cells": [
  {
   "cell_type": "code",
   "execution_count": 1,
   "metadata": {},
   "outputs": [
    {
     "name": "stdout",
     "output_type": "stream",
     "text": [
      "/home/bryansouza/anaconda3/envs/ppk/bin/python\n"
     ]
    }
   ],
   "source": [
    "!which python"
   ]
  },
  {
   "cell_type": "code",
   "execution_count": 2,
   "metadata": {},
   "outputs": [],
   "source": [
    "import os\n",
    "import numpy as np\n",
    "import pandas as pd\n",
    "\n",
    "import shutil"
   ]
  },
  {
   "cell_type": "code",
   "execution_count": 3,
   "metadata": {},
   "outputs": [],
   "source": [
    "train_labels_df = pd.read_csv(\"train.csv\")"
   ]
  },
  {
   "cell_type": "code",
   "execution_count": 4,
   "metadata": {},
   "outputs": [
    {
     "data": {
      "text/html": [
       "<div>\n",
       "<style scoped>\n",
       "    .dataframe tbody tr th:only-of-type {\n",
       "        vertical-align: middle;\n",
       "    }\n",
       "\n",
       "    .dataframe tbody tr th {\n",
       "        vertical-align: top;\n",
       "    }\n",
       "\n",
       "    .dataframe thead th {\n",
       "        text-align: right;\n",
       "    }\n",
       "</style>\n",
       "<table border=\"1\" class=\"dataframe\">\n",
       "  <thead>\n",
       "    <tr style=\"text-align: right;\">\n",
       "      <th></th>\n",
       "      <th>image_id</th>\n",
       "      <th>healthy</th>\n",
       "      <th>multiple_diseases</th>\n",
       "      <th>rust</th>\n",
       "      <th>scab</th>\n",
       "    </tr>\n",
       "  </thead>\n",
       "  <tbody>\n",
       "    <tr>\n",
       "      <th>1816</th>\n",
       "      <td>Train_1816</td>\n",
       "      <td>0</td>\n",
       "      <td>0</td>\n",
       "      <td>0</td>\n",
       "      <td>1</td>\n",
       "    </tr>\n",
       "    <tr>\n",
       "      <th>1817</th>\n",
       "      <td>Train_1817</td>\n",
       "      <td>1</td>\n",
       "      <td>0</td>\n",
       "      <td>0</td>\n",
       "      <td>0</td>\n",
       "    </tr>\n",
       "    <tr>\n",
       "      <th>1818</th>\n",
       "      <td>Train_1818</td>\n",
       "      <td>1</td>\n",
       "      <td>0</td>\n",
       "      <td>0</td>\n",
       "      <td>0</td>\n",
       "    </tr>\n",
       "    <tr>\n",
       "      <th>1819</th>\n",
       "      <td>Train_1819</td>\n",
       "      <td>0</td>\n",
       "      <td>0</td>\n",
       "      <td>1</td>\n",
       "      <td>0</td>\n",
       "    </tr>\n",
       "    <tr>\n",
       "      <th>1820</th>\n",
       "      <td>Train_1820</td>\n",
       "      <td>0</td>\n",
       "      <td>0</td>\n",
       "      <td>0</td>\n",
       "      <td>1</td>\n",
       "    </tr>\n",
       "  </tbody>\n",
       "</table>\n",
       "</div>"
      ],
      "text/plain": [
       "        image_id  healthy  multiple_diseases  rust  scab\n",
       "1816  Train_1816        0                  0     0     1\n",
       "1817  Train_1817        1                  0     0     0\n",
       "1818  Train_1818        1                  0     0     0\n",
       "1819  Train_1819        0                  0     1     0\n",
       "1820  Train_1820        0                  0     0     1"
      ]
     },
     "execution_count": 4,
     "metadata": {},
     "output_type": "execute_result"
    }
   ],
   "source": [
    "train_labels_df.tail()"
   ]
  },
  {
   "cell_type": "code",
   "execution_count": 5,
   "metadata": {},
   "outputs": [],
   "source": [
    "train_labels_dict = train_labels_df.to_dict()"
   ]
  },
  {
   "cell_type": "code",
   "execution_count": 7,
   "metadata": {},
   "outputs": [],
   "source": [
    "IMG_DIR =  \"images/raw\""
   ]
  },
  {
   "cell_type": "code",
   "execution_count": 8,
   "metadata": {},
   "outputs": [],
   "source": [
    "# restructure image folder for classes \n",
    "healthy = []\n",
    "multiple = []\n",
    "rust = []\n",
    "scab = []\n",
    "\n",
    "# for file_ in train_filenames:\n",
    "#   print(file_)\n",
    "for i in train_labels_dict[\"image_id\"]:\n",
    "  if train_labels_dict[\"healthy\"][i] == 1:\n",
    "    # print(i, \" is healthy\")\n",
    "    healthy.append(os.path.join(IMG_DIR, \"Train_\" + str(i) + \".jpg\"))\n",
    "  \n",
    "  if train_labels_dict[\"multiple_diseases\"][i] == 1:\n",
    "    # print(i, \" is multiple\")\n",
    "    multiple.append(os.path.join(IMG_DIR, \"Train_\" + str(i) + \".jpg\"))\n",
    "\n",
    "  if train_labels_dict[\"rust\"][i] == 1:\n",
    "    # print(i, \" is scab\")\n",
    "    rust.append(os.path.join(IMG_DIR, \"Train_\" + str(i) + \".jpg\"))\n",
    "\n",
    "  if train_labels_dict[\"scab\"][i] == 1:\n",
    "    # print(i, \" is rust\")\n",
    "    scab.append(os.path.join(IMG_DIR, \"Train_\" + str(i) + \".jpg\"))\n",
    "\n"
   ]
  },
  {
   "cell_type": "code",
   "execution_count": 9,
   "metadata": {},
   "outputs": [
    {
     "data": {
      "text/plain": [
       "(['images/raw/Train_2.jpg',\n",
       "  'images/raw/Train_4.jpg',\n",
       "  'images/raw/Train_5.jpg',\n",
       "  'images/raw/Train_9.jpg',\n",
       "  'images/raw/Train_13.jpg'],\n",
       " ['images/raw/Train_1.jpg',\n",
       "  'images/raw/Train_6.jpg',\n",
       "  'images/raw/Train_25.jpg',\n",
       "  'images/raw/Train_36.jpg',\n",
       "  'images/raw/Train_62.jpg'],\n",
       " ['images/raw/Train_3.jpg',\n",
       "  'images/raw/Train_10.jpg',\n",
       "  'images/raw/Train_14.jpg',\n",
       "  'images/raw/Train_15.jpg',\n",
       "  'images/raw/Train_21.jpg'],\n",
       " ['images/raw/Train_0.jpg',\n",
       "  'images/raw/Train_7.jpg',\n",
       "  'images/raw/Train_8.jpg',\n",
       "  'images/raw/Train_11.jpg',\n",
       "  'images/raw/Train_12.jpg'])"
      ]
     },
     "execution_count": 9,
     "metadata": {},
     "output_type": "execute_result"
    }
   ],
   "source": [
    "healthy[:5], multiple[:5], rust[:5], scab[:5]"
   ]
  },
  {
   "cell_type": "code",
   "execution_count": 5,
   "metadata": {},
   "outputs": [],
   "source": [
    "classes_ = [class_ for class_ in train_labels_df.columns[1:5]]"
   ]
  },
  {
   "cell_type": "code",
   "execution_count": 6,
   "metadata": {},
   "outputs": [
    {
     "data": {
      "text/plain": [
       "['healthy', 'multiple_diseases', 'rust', 'scab']"
      ]
     },
     "execution_count": 6,
     "metadata": {},
     "output_type": "execute_result"
    }
   ],
   "source": [
    "for class_ in classes_:\n",
    "    !mkdir images/{class_}"
   ]
  },
  {
   "cell_type": "code",
   "execution_count": 12,
   "metadata": {},
   "outputs": [],
   "source": [
    "for dir in healthy:\n",
    "  shutil.copy2(dir, \"images/classed/healthy\")"
   ]
  },
  {
   "cell_type": "code",
   "execution_count": 14,
   "metadata": {},
   "outputs": [],
   "source": [
    "for dir in multiple:\n",
    "  shutil.copy2(dir, \"images/classed/multiple_diseases\")"
   ]
  },
  {
   "cell_type": "code",
   "execution_count": 16,
   "metadata": {},
   "outputs": [],
   "source": [
    "for dir in rust:\n",
    "  shutil.copy2(dir, \"images/classed/rust\")"
   ]
  },
  {
   "cell_type": "code",
   "execution_count": 17,
   "metadata": {},
   "outputs": [],
   "source": [
    "for dir in scab:\n",
    "  shutil.copy2(dir, \"images/classed/scab\")"
   ]
  },
  {
   "cell_type": "code",
   "execution_count": null,
   "metadata": {},
   "outputs": [],
   "source": []
  }
 ],
 "metadata": {
  "kernelspec": {
   "display_name": "Python 3.8.2 64-bit",
   "language": "python",
   "name": "python38264bit0924dd10a82d4c13984f22d47a5366a8"
  },
  "language_info": {
   "codemirror_mode": {
    "name": "ipython",
    "version": 3
   },
   "file_extension": ".py",
   "mimetype": "text/x-python",
   "name": "python",
   "nbconvert_exporter": "python",
   "pygments_lexer": "ipython3",
   "version": "3.8.2"
  }
 },
 "nbformat": 4,
 "nbformat_minor": 4
}
