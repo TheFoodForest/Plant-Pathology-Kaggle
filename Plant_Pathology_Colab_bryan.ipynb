{
 "cells": [
  {
   "cell_type": "markdown",
   "metadata": {
    "colab_type": "text",
    "id": "yDSaZFvyJjEL"
   },
   "source": [
    "# Mount Google Drive"
   ]
  },
  {
   "cell_type": "code",
   "execution_count": 1,
   "metadata": {
    "colab": {
     "base_uri": "https://localhost:8080/",
     "height": 122
    },
    "colab_type": "code",
    "id": "2eheDMbH0DNN",
    "outputId": "4314eae2-dfa3-48e9-8bc3-b62dae530321"
   },
   "outputs": [
    {
     "name": "stdout",
     "output_type": "stream",
     "text": [
      "Go to this URL in a browser: https://accounts.google.com/o/oauth2/auth?client_id=947318989803-6bn6qk8qdgf4n4g3pfee6491hc0brc4i.apps.googleusercontent.com&redirect_uri=urn%3aietf%3awg%3aoauth%3a2.0%3aoob&response_type=code&scope=email%20https%3a%2f%2fwww.googleapis.com%2fauth%2fdocs.test%20https%3a%2f%2fwww.googleapis.com%2fauth%2fdrive%20https%3a%2f%2fwww.googleapis.com%2fauth%2fdrive.photos.readonly%20https%3a%2f%2fwww.googleapis.com%2fauth%2fpeopleapi.readonly\n",
      "\n",
      "Enter your authorization code:\n",
      "··········\n",
      "Mounted at /content/drive\n"
     ]
    }
   ],
   "source": [
    "from google.colab import drive\n",
    "drive.mount('/content/drive')"
   ]
  },
  {
   "cell_type": "code",
   "execution_count": 2,
   "metadata": {
    "colab": {
     "base_uri": "https://localhost:8080/",
     "height": 34
    },
    "colab_type": "code",
    "id": "d9SliHIt1HSV",
    "outputId": "a241aef6-692a-41a2-aeb5-93ceb9426e38",
    "tags": []
   },
   "outputs": [
    {
     "name": "stdout",
     "output_type": "stream",
     "text": [
      "\u001b[0m\u001b[01;34mclassed\u001b[0m/  \u001b[01;34mraw\u001b[0m/\n"
     ]
    }
   ],
   "source": [
    "%ls \"/content/drive/My Drive/ppk/images\""
   ]
  },
  {
   "cell_type": "code",
   "execution_count": 3,
   "metadata": {
    "colab": {
     "base_uri": "https://localhost:8080/",
     "height": 34
    },
    "colab_type": "code",
    "id": "H1jH5nq5Nz_i",
    "outputId": "ea5a356d-7ee4-43d7-9d72-e2bd7780d8e3"
   },
   "outputs": [
    {
     "name": "stdout",
     "output_type": "stream",
     "text": [
      "/content\n"
     ]
    }
   ],
   "source": [
    "%cd /content"
   ]
  },
  {
   "cell_type": "code",
   "execution_count": 4,
   "metadata": {
    "colab": {
     "base_uri": "https://localhost:8080/",
     "height": 34
    },
    "colab_type": "code",
    "id": "KECqFGxw0ard",
    "outputId": "7284550d-92ad-463a-8f11-6d26a6201124"
   },
   "outputs": [
    {
     "name": "stdout",
     "output_type": "stream",
     "text": [
      "\u001b[0m\u001b[01;34mdrive\u001b[0m/  \u001b[01;34msample_data\u001b[0m/\n"
     ]
    }
   ],
   "source": [
    "%ls /content"
   ]
  },
  {
   "cell_type": "code",
   "execution_count": null,
   "metadata": {
    "colab": {},
    "colab_type": "code",
    "id": "6nk40HVAQD8y"
   },
   "outputs": [],
   "source": [
    "%cp -r \"/content/drive/My Drive/ppk/.\" /content/"
   ]
  },
  {
   "cell_type": "markdown",
   "metadata": {
    "colab_type": "text",
    "id": "Sps2rXvmJ3Sv"
   },
   "source": [
    "# Get dependencies"
   ]
  },
  {
   "cell_type": "code",
   "execution_count": null,
   "metadata": {
    "colab": {
     "base_uri": "https://localhost:8080/",
     "height": 785
    },
    "colab_type": "code",
    "id": "TAEqevwJPKLu",
    "outputId": "52d21df1-3d04-4506-d207-f7d9e4dcbdb7"
   },
   "outputs": [],
   "source": [
    "!pip install -U tf-nightly"
   ]
  },
  {
   "cell_type": "code",
   "execution_count": null,
   "metadata": {
    "colab": {},
    "colab_type": "code",
    "id": "DgMg0LMO16Z5"
   },
   "outputs": [],
   "source": [
    "import pandas as pd\n",
    "import numpy as np \n",
    "import tensorflow as tf\n",
    "\n",
    "from sklearn.model_selection import train_test_split\n",
    "\n",
    "import cv2\n",
    "from tqdm import tqdm\n",
    "\n",
    "\n",
    "import matplotlib.pyplot as plt\n",
    "\n",
    "import datetime\n",
    "\n",
    "import os \n",
    "import glob\n",
    "\n",
    "tqdm.pandas()"
   ]
  },
  {
   "cell_type": "code",
   "execution_count": 10,
   "metadata": {
    "colab": {},
    "colab_type": "code",
    "id": "KHgE6eQwGXXC"
   },
   "outputs": [],
   "source": [
    "tf.random.set_seed(1234)"
   ]
  },
  {
   "cell_type": "markdown",
   "metadata": {
    "colab_type": "text",
    "id": "zrmiG2xTJdo4"
   },
   "source": [
    "# Get Labels"
   ]
  },
  {
   "cell_type": "code",
   "execution_count": 11,
   "metadata": {
    "colab": {},
    "colab_type": "code",
    "id": "8VhmyaNS2L-l"
   },
   "outputs": [],
   "source": [
    "labels = pd.read_csv('train.csv')"
   ]
  },
  {
   "cell_type": "code",
   "execution_count": 12,
   "metadata": {
    "colab": {
     "base_uri": "https://localhost:8080/",
     "height": 408
    },
    "colab_type": "code",
    "id": "gd9rd-ZS2e1K",
    "outputId": "c69df66e-f20f-4030-caf4-46d7e3540f40"
   },
   "outputs": [
    {
     "data": {
      "text/html": [
       "<div>\n",
       "<style scoped>\n",
       "    .dataframe tbody tr th:only-of-type {\n",
       "        vertical-align: middle;\n",
       "    }\n",
       "\n",
       "    .dataframe tbody tr th {\n",
       "        vertical-align: top;\n",
       "    }\n",
       "\n",
       "    .dataframe thead th {\n",
       "        text-align: right;\n",
       "    }\n",
       "</style>\n",
       "<table border=\"1\" class=\"dataframe\">\n",
       "  <thead>\n",
       "    <tr style=\"text-align: right;\">\n",
       "      <th></th>\n",
       "      <th>image_id</th>\n",
       "      <th>healthy</th>\n",
       "      <th>multiple_diseases</th>\n",
       "      <th>rust</th>\n",
       "      <th>scab</th>\n",
       "    </tr>\n",
       "  </thead>\n",
       "  <tbody>\n",
       "    <tr>\n",
       "      <th>0</th>\n",
       "      <td>Train_0</td>\n",
       "      <td>0</td>\n",
       "      <td>0</td>\n",
       "      <td>0</td>\n",
       "      <td>1</td>\n",
       "    </tr>\n",
       "    <tr>\n",
       "      <th>1</th>\n",
       "      <td>Train_1</td>\n",
       "      <td>0</td>\n",
       "      <td>1</td>\n",
       "      <td>0</td>\n",
       "      <td>0</td>\n",
       "    </tr>\n",
       "    <tr>\n",
       "      <th>2</th>\n",
       "      <td>Train_2</td>\n",
       "      <td>1</td>\n",
       "      <td>0</td>\n",
       "      <td>0</td>\n",
       "      <td>0</td>\n",
       "    </tr>\n",
       "    <tr>\n",
       "      <th>3</th>\n",
       "      <td>Train_3</td>\n",
       "      <td>0</td>\n",
       "      <td>0</td>\n",
       "      <td>1</td>\n",
       "      <td>0</td>\n",
       "    </tr>\n",
       "    <tr>\n",
       "      <th>4</th>\n",
       "      <td>Train_4</td>\n",
       "      <td>1</td>\n",
       "      <td>0</td>\n",
       "      <td>0</td>\n",
       "      <td>0</td>\n",
       "    </tr>\n",
       "  </tbody>\n",
       "</table>\n",
       "</div>"
      ],
      "text/plain": [
       "  image_id  healthy  multiple_diseases  rust  scab\n",
       "0  Train_0        0                  0     0     1\n",
       "1  Train_1        0                  1     0     0\n",
       "2  Train_2        1                  0     0     0\n",
       "3  Train_3        0                  0     1     0\n",
       "4  Train_4        1                  0     0     0"
      ]
     },
     "metadata": {
      "tags": []
     },
     "output_type": "display_data"
    },
    {
     "name": "stdout",
     "output_type": "stream",
     "text": [
      "<class 'pandas.core.frame.DataFrame'>\n",
      "RangeIndex: 1821 entries, 0 to 1820\n",
      "Data columns (total 5 columns):\n",
      " #   Column             Non-Null Count  Dtype \n",
      "---  ------             --------------  ----- \n",
      " 0   image_id           1821 non-null   object\n",
      " 1   healthy            1821 non-null   int64 \n",
      " 2   multiple_diseases  1821 non-null   int64 \n",
      " 3   rust               1821 non-null   int64 \n",
      " 4   scab               1821 non-null   int64 \n",
      "dtypes: int64(4), object(1)\n",
      "memory usage: 71.3+ KB\n"
     ]
    }
   ],
   "source": [
    "display(labels.head())\n",
    "labels.info()"
   ]
  },
  {
   "cell_type": "code",
   "execution_count": 13,
   "metadata": {
    "colab": {
     "base_uri": "https://localhost:8080/",
     "height": 34
    },
    "colab_type": "code",
    "id": "038x5knY2gqB",
    "outputId": "521d4386-a685-449b-fd61-1684b50b682c"
   },
   "outputs": [
    {
     "name": "stderr",
     "output_type": "stream",
     "text": [
      "100%|██████████| 1821/1821 [00:00<00:00, 315860.70it/s]\n"
     ]
    }
   ],
   "source": [
    "\n",
    "# image to array function \n",
    "def load_image(image_id):\n",
    "    image = cv2.imread(image_id)\n",
    "    return np.float64(image)\n",
    "\n",
    "\n",
    "def create_paths(img):\n",
    "    return 'images/{}.jpg'.format(img)\n",
    "\n",
    "\n",
    "labels['path'] = labels.image_id.progress_apply(create_paths)"
   ]
  },
  {
   "cell_type": "code",
   "execution_count": 14,
   "metadata": {
    "colab": {},
    "colab_type": "code",
    "id": "Kma9uovl24ta"
   },
   "outputs": [],
   "source": [
    "X = labels.loc[:,'path']\n",
    "y = labels.loc[:, labels.columns[1:5]]\n",
    "\n",
    "X_train, X_test, y_train, y_test = train_test_split(X,\n",
    "                                                    y,\n",
    "                                                    random_state=13,\n",
    "                                                    stratify=y,\n",
    "                                                    test_size=0.3)"
   ]
  },
  {
   "cell_type": "code",
   "execution_count": 15,
   "metadata": {
    "colab": {},
    "colab_type": "code",
    "id": "D7ihjifh4dl0"
   },
   "outputs": [],
   "source": [
    "\n",
    "labels.drop(columns='image_id', inplace=True)\n",
    "labels = labels[['path', 'healthy','multiple_diseases','rust','scab']]"
   ]
  },
  {
   "cell_type": "code",
   "execution_count": 16,
   "metadata": {
    "colab": {
     "base_uri": "https://localhost:8080/",
     "height": 204
    },
    "colab_type": "code",
    "id": "3JWJQrNb4pDY",
    "outputId": "b0c6072d-b7f6-40c3-9eb9-c254c8c773a6"
   },
   "outputs": [
    {
     "data": {
      "text/html": [
       "<div>\n",
       "<style scoped>\n",
       "    .dataframe tbody tr th:only-of-type {\n",
       "        vertical-align: middle;\n",
       "    }\n",
       "\n",
       "    .dataframe tbody tr th {\n",
       "        vertical-align: top;\n",
       "    }\n",
       "\n",
       "    .dataframe thead th {\n",
       "        text-align: right;\n",
       "    }\n",
       "</style>\n",
       "<table border=\"1\" class=\"dataframe\">\n",
       "  <thead>\n",
       "    <tr style=\"text-align: right;\">\n",
       "      <th></th>\n",
       "      <th>path</th>\n",
       "      <th>healthy</th>\n",
       "      <th>multiple_diseases</th>\n",
       "      <th>rust</th>\n",
       "      <th>scab</th>\n",
       "    </tr>\n",
       "  </thead>\n",
       "  <tbody>\n",
       "    <tr>\n",
       "      <th>0</th>\n",
       "      <td>images/Train_0.jpg</td>\n",
       "      <td>0</td>\n",
       "      <td>0</td>\n",
       "      <td>0</td>\n",
       "      <td>1</td>\n",
       "    </tr>\n",
       "    <tr>\n",
       "      <th>1</th>\n",
       "      <td>images/Train_1.jpg</td>\n",
       "      <td>0</td>\n",
       "      <td>1</td>\n",
       "      <td>0</td>\n",
       "      <td>0</td>\n",
       "    </tr>\n",
       "    <tr>\n",
       "      <th>2</th>\n",
       "      <td>images/Train_2.jpg</td>\n",
       "      <td>1</td>\n",
       "      <td>0</td>\n",
       "      <td>0</td>\n",
       "      <td>0</td>\n",
       "    </tr>\n",
       "    <tr>\n",
       "      <th>3</th>\n",
       "      <td>images/Train_3.jpg</td>\n",
       "      <td>0</td>\n",
       "      <td>0</td>\n",
       "      <td>1</td>\n",
       "      <td>0</td>\n",
       "    </tr>\n",
       "    <tr>\n",
       "      <th>4</th>\n",
       "      <td>images/Train_4.jpg</td>\n",
       "      <td>1</td>\n",
       "      <td>0</td>\n",
       "      <td>0</td>\n",
       "      <td>0</td>\n",
       "    </tr>\n",
       "  </tbody>\n",
       "</table>\n",
       "</div>"
      ],
      "text/plain": [
       "                 path  healthy  multiple_diseases  rust  scab\n",
       "0  images/Train_0.jpg        0                  0     0     1\n",
       "1  images/Train_1.jpg        0                  1     0     0\n",
       "2  images/Train_2.jpg        1                  0     0     0\n",
       "3  images/Train_3.jpg        0                  0     1     0\n",
       "4  images/Train_4.jpg        1                  0     0     0"
      ]
     },
     "execution_count": 16,
     "metadata": {
      "tags": []
     },
     "output_type": "execute_result"
    }
   ],
   "source": [
    "\n",
    "labels.head()"
   ]
  },
  {
   "cell_type": "markdown",
   "metadata": {
    "colab_type": "text",
    "id": "jjBEcZPGJRWT"
   },
   "source": [
    "# Device initialization"
   ]
  },
  {
   "cell_type": "markdown",
   "metadata": {
    "colab_type": "text",
    "id": "d4ACW7HqKV5j"
   },
   "source": [
    "## TPU"
   ]
  },
  {
   "cell_type": "code",
   "execution_count": 23,
   "metadata": {
    "colab": {
     "base_uri": "https://localhost:8080/",
     "height": 357
    },
    "colab_type": "code",
    "id": "e1ES9yPRAD1Y",
    "outputId": "5091ad65-4278-492e-cfad-76291ba91b65"
   },
   "outputs": [
    {
     "name": "stdout",
     "output_type": "stream",
     "text": [
      "INFO:tensorflow:Initializing the TPU system: grpc://10.105.110.34:8470\n"
     ]
    },
    {
     "name": "stderr",
     "output_type": "stream",
     "text": [
      "INFO:tensorflow:Initializing the TPU system: grpc://10.105.110.34:8470\n"
     ]
    },
    {
     "name": "stdout",
     "output_type": "stream",
     "text": [
      "INFO:tensorflow:Clearing out eager caches\n"
     ]
    },
    {
     "name": "stderr",
     "output_type": "stream",
     "text": [
      "INFO:tensorflow:Clearing out eager caches\n"
     ]
    },
    {
     "ename": "InvalidArgumentError",
     "evalue": "ignored",
     "output_type": "error",
     "traceback": [
      "\u001b[0;31m---------------------------------------------------------------------------\u001b[0m",
      "\u001b[0;31mInvalidArgumentError\u001b[0m                      Traceback (most recent call last)",
      "\u001b[0;32m<ipython-input-23-b7c2a2ecd2b3>\u001b[0m in \u001b[0;36m<module>\u001b[0;34m()\u001b[0m\n\u001b[1;32m      2\u001b[0m \u001b[0mtf\u001b[0m\u001b[0;34m.\u001b[0m\u001b[0mconfig\u001b[0m\u001b[0;34m.\u001b[0m\u001b[0mexperimental_connect_to_cluster\u001b[0m\u001b[0;34m(\u001b[0m\u001b[0mresolver\u001b[0m\u001b[0;34m)\u001b[0m\u001b[0;34m\u001b[0m\u001b[0;34m\u001b[0m\u001b[0m\n\u001b[1;32m      3\u001b[0m \u001b[0;31m# This is the TPU initialization code that has to be at the beginning.\u001b[0m\u001b[0;34m\u001b[0m\u001b[0;34m\u001b[0m\u001b[0;34m\u001b[0m\u001b[0m\n\u001b[0;32m----> 4\u001b[0;31m \u001b[0mtf\u001b[0m\u001b[0;34m.\u001b[0m\u001b[0mtpu\u001b[0m\u001b[0;34m.\u001b[0m\u001b[0mexperimental\u001b[0m\u001b[0;34m.\u001b[0m\u001b[0minitialize_tpu_system\u001b[0m\u001b[0;34m(\u001b[0m\u001b[0mresolver\u001b[0m\u001b[0;34m)\u001b[0m\u001b[0;34m\u001b[0m\u001b[0;34m\u001b[0m\u001b[0m\n\u001b[0m\u001b[1;32m      5\u001b[0m \u001b[0mprint\u001b[0m\u001b[0;34m(\u001b[0m\u001b[0;34m\"All devices: \"\u001b[0m\u001b[0;34m,\u001b[0m \u001b[0mtf\u001b[0m\u001b[0;34m.\u001b[0m\u001b[0mconfig\u001b[0m\u001b[0;34m.\u001b[0m\u001b[0mlist_logical_devices\u001b[0m\u001b[0;34m(\u001b[0m\u001b[0;34m'TPU'\u001b[0m\u001b[0;34m)\u001b[0m\u001b[0;34m)\u001b[0m\u001b[0;34m\u001b[0m\u001b[0;34m\u001b[0m\u001b[0m\n",
      "\u001b[0;32m/usr/local/lib/python3.6/dist-packages/tensorflow/python/tpu/tpu_strategy_util.py\u001b[0m in \u001b[0;36minitialize_tpu_system\u001b[0;34m(cluster_resolver)\u001b[0m\n\u001b[1;32m    109\u001b[0m     \u001b[0mcontext\u001b[0m\u001b[0;34m.\u001b[0m\u001b[0mcontext\u001b[0m\u001b[0;34m(\u001b[0m\u001b[0;34m)\u001b[0m\u001b[0;34m.\u001b[0m\u001b[0m_clear_caches\u001b[0m\u001b[0;34m(\u001b[0m\u001b[0;34m)\u001b[0m  \u001b[0;31m# pylint: disable=protected-access\u001b[0m\u001b[0;34m\u001b[0m\u001b[0;34m\u001b[0m\u001b[0m\n\u001b[1;32m    110\u001b[0m \u001b[0;34m\u001b[0m\u001b[0m\n\u001b[0;32m--> 111\u001b[0;31m     \u001b[0mserialized_topology\u001b[0m \u001b[0;34m=\u001b[0m \u001b[0moutput\u001b[0m\u001b[0;34m.\u001b[0m\u001b[0mnumpy\u001b[0m\u001b[0;34m(\u001b[0m\u001b[0;34m)\u001b[0m\u001b[0;34m\u001b[0m\u001b[0;34m\u001b[0m\u001b[0m\n\u001b[0m\u001b[1;32m    112\u001b[0m \u001b[0;34m\u001b[0m\u001b[0m\n\u001b[1;32m    113\u001b[0m     \u001b[0;31m# TODO(b/134094971): Remove this when lazy tensor copy in multi-device\u001b[0m\u001b[0;34m\u001b[0m\u001b[0;34m\u001b[0m\u001b[0;34m\u001b[0m\u001b[0m\n",
      "\u001b[0;32m/usr/local/lib/python3.6/dist-packages/tensorflow/python/framework/ops.py\u001b[0m in \u001b[0;36mnumpy\u001b[0;34m(self)\u001b[0m\n\u001b[1;32m   1062\u001b[0m     \"\"\"\n\u001b[1;32m   1063\u001b[0m     \u001b[0;31m# TODO(slebedev): Consider avoiding a copy for non-CPU or remote tensors.\u001b[0m\u001b[0;34m\u001b[0m\u001b[0;34m\u001b[0m\u001b[0;34m\u001b[0m\u001b[0m\n\u001b[0;32m-> 1064\u001b[0;31m     \u001b[0mmaybe_arr\u001b[0m \u001b[0;34m=\u001b[0m \u001b[0mself\u001b[0m\u001b[0;34m.\u001b[0m\u001b[0m_numpy\u001b[0m\u001b[0;34m(\u001b[0m\u001b[0;34m)\u001b[0m  \u001b[0;31m# pylint: disable=protected-access\u001b[0m\u001b[0;34m\u001b[0m\u001b[0;34m\u001b[0m\u001b[0m\n\u001b[0m\u001b[1;32m   1065\u001b[0m     \u001b[0;32mreturn\u001b[0m \u001b[0mmaybe_arr\u001b[0m\u001b[0;34m.\u001b[0m\u001b[0mcopy\u001b[0m\u001b[0;34m(\u001b[0m\u001b[0;34m)\u001b[0m \u001b[0;32mif\u001b[0m \u001b[0misinstance\u001b[0m\u001b[0;34m(\u001b[0m\u001b[0mmaybe_arr\u001b[0m\u001b[0;34m,\u001b[0m \u001b[0mnp\u001b[0m\u001b[0;34m.\u001b[0m\u001b[0mndarray\u001b[0m\u001b[0;34m)\u001b[0m \u001b[0;32melse\u001b[0m \u001b[0mmaybe_arr\u001b[0m\u001b[0;34m\u001b[0m\u001b[0;34m\u001b[0m\u001b[0m\n\u001b[1;32m   1066\u001b[0m \u001b[0;34m\u001b[0m\u001b[0m\n",
      "\u001b[0;32m/usr/local/lib/python3.6/dist-packages/tensorflow/python/framework/ops.py\u001b[0m in \u001b[0;36m_numpy\u001b[0;34m(self)\u001b[0m\n\u001b[1;32m   1030\u001b[0m       \u001b[0;32mreturn\u001b[0m \u001b[0mself\u001b[0m\u001b[0;34m.\u001b[0m\u001b[0m_numpy_internal\u001b[0m\u001b[0;34m(\u001b[0m\u001b[0;34m)\u001b[0m\u001b[0;34m\u001b[0m\u001b[0;34m\u001b[0m\u001b[0m\n\u001b[1;32m   1031\u001b[0m     \u001b[0;32mexcept\u001b[0m \u001b[0mcore\u001b[0m\u001b[0;34m.\u001b[0m\u001b[0m_NotOkStatusException\u001b[0m \u001b[0;32mas\u001b[0m \u001b[0me\u001b[0m\u001b[0;34m:\u001b[0m  \u001b[0;31m# pylint: disable=protected-access\u001b[0m\u001b[0;34m\u001b[0m\u001b[0;34m\u001b[0m\u001b[0m\n\u001b[0;32m-> 1032\u001b[0;31m       \u001b[0msix\u001b[0m\u001b[0;34m.\u001b[0m\u001b[0mraise_from\u001b[0m\u001b[0;34m(\u001b[0m\u001b[0mcore\u001b[0m\u001b[0;34m.\u001b[0m\u001b[0m_status_to_exception\u001b[0m\u001b[0;34m(\u001b[0m\u001b[0me\u001b[0m\u001b[0;34m.\u001b[0m\u001b[0mcode\u001b[0m\u001b[0;34m,\u001b[0m \u001b[0me\u001b[0m\u001b[0;34m.\u001b[0m\u001b[0mmessage\u001b[0m\u001b[0;34m)\u001b[0m\u001b[0;34m,\u001b[0m \u001b[0;32mNone\u001b[0m\u001b[0;34m)\u001b[0m  \u001b[0;31m# pylint: disable=protected-access\u001b[0m\u001b[0;34m\u001b[0m\u001b[0;34m\u001b[0m\u001b[0m\n\u001b[0m\u001b[1;32m   1033\u001b[0m \u001b[0;34m\u001b[0m\u001b[0m\n\u001b[1;32m   1034\u001b[0m   \u001b[0;34m@\u001b[0m\u001b[0mproperty\u001b[0m\u001b[0;34m\u001b[0m\u001b[0;34m\u001b[0m\u001b[0m\n",
      "\u001b[0;32m/usr/local/lib/python3.6/dist-packages/six.py\u001b[0m in \u001b[0;36mraise_from\u001b[0;34m(value, from_value)\u001b[0m\n",
      "\u001b[0;31mInvalidArgumentError\u001b[0m: NodeDef expected inputs 'string' do not match 0 inputs specified; Op<name=_Send; signature=tensor:T -> ; attr=T:type; attr=tensor_name:string; attr=send_device:string; attr=send_device_incarnation:int; attr=recv_device:string; attr=client_terminated:bool,default=false; is_stateful=true>; NodeDef: {{node _Send}}"
     ]
    }
   ],
   "source": [
    "# resolver = tf.distribute.cluster_resolver.TPUClusterResolver(tpu='grpc://' + os.environ['COLAB_TPU_ADDR'])\n",
    "# tf.config.experimental_connect_to_cluster(resolver)\n",
    "# # This is the TPU initialization code that has to be at the beginning.\n",
    "# tf.tpu.experimental.initialize_tpu_system(resolver)\n",
    "# print(\"All devices: \", tf.config.list_logical_devices('TPU'))"
   ]
  },
  {
   "cell_type": "code",
   "execution_count": null,
   "metadata": {
    "colab": {},
    "colab_type": "code",
    "id": "TbqpXONmKQp_"
   },
   "outputs": [],
   "source": [
    "# strategy = tf.distribute.experimental.TPUStrategy(resolver)"
   ]
  },
  {
   "cell_type": "markdown",
   "metadata": {
    "colab_type": "text",
    "id": "ttubOIgfKRt5"
   },
   "source": [
    "## GPU"
   ]
  },
  {
   "cell_type": "code",
   "execution_count": null,
   "metadata": {
    "colab": {},
    "colab_type": "code",
    "id": "xidVhm6UDIVy"
   },
   "outputs": [],
   "source": [
    "print(\"Num GPUs Available: \", len(tf.config.experimental.list_physical_devices('GPU')))"
   ]
  },
  {
   "cell_type": "code",
   "execution_count": null,
   "metadata": {
    "colab": {},
    "colab_type": "code",
    "id": "C6vbrkNa2mhe"
   },
   "outputs": [],
   "source": [
    "from tensorflow.python.client import device_lib\n",
    "\n",
    "def get_available_gpus():\n",
    "    local_device_protos = device_lib.list_local_devices()\n",
    "    return [x.name for x in local_device_protos if x.device_type == 'GPU']\n",
    "\n",
    "get_available_gpus()"
   ]
  },
  {
   "cell_type": "markdown",
   "metadata": {
    "colab_type": "text",
    "id": "hyM3jjn9uhoV"
   },
   "source": [
    "# Unused Functions"
   ]
  },
  {
   "cell_type": "code",
   "execution_count": 23,
   "metadata": {
    "colab": {},
    "colab_type": "code",
    "id": "r7bYvN-mutMH"
   },
   "outputs": [],
   "source": [
    "\n",
    "\n",
    "# # zippedtrain = zip(X_train,y_train)\n",
    "# # zippedtest = zip(X_test,y_test)\n",
    "# # train_df = pd.DataFrame({'path':X_train,'class':[list(i) for i in y_train]})\n",
    "# # test_df = pd.DataFrame({'path':X_test,'class':[list(i) for i in y_test]})\n",
    "\n",
    "# train_df = pd.DataFrame(X_train).join(pd.DataFrame(y_train))\n",
    "# test_df = pd.DataFrame(X_test).join(pd.DataFrame(y_test))\n",
    "\n",
    "# train_df.head()"
   ]
  },
  {
   "cell_type": "code",
   "execution_count": 24,
   "metadata": {
    "colab": {},
    "colab_type": "code",
    "id": "OHYgyaYYpQog"
   },
   "outputs": [],
   "source": [
    "# fit_x = train_df.path.progress_apply(load_image).values\n",
    "\n",
    "# blue_means, green_means, red_means = get_channel_means(train_df.path.values)\n",
    "# blue_mean = (sum(blue_means) / len(blue_means)) * 1./255\n",
    "# green_mean = (sum(green_means) / len(green_means)) * 1./255\n",
    "# red_mean = (sum(red_means) / len(red_means)) * 1./255"
   ]
  },
  {
   "cell_type": "code",
   "execution_count": 25,
   "metadata": {
    "colab": {},
    "colab_type": "code",
    "id": "fTReA8GGMNxj"
   },
   "outputs": [],
   "source": [
    "# means = [red_mean, green_mean, blue_mean]\n",
    "# means = [0.4043033271154857, 0.4043033271154857, 0.3131933874018047]\n",
    "# means\n",
    "# red_mean, green_mean, blue_mean = 0.4043033271154857, 0.4043033271154857, 0.3131933874018047\n",
    "# red_mean = 0.4043033271154857\n",
    "# green_mean  = 0.4043033271154857\n",
    "# blue_mean = 0.3131933874018047"
   ]
  },
  {
   "cell_type": "code",
   "execution_count": 26,
   "metadata": {
    "colab": {},
    "colab_type": "code",
    "id": "wXRpcnWs5M_Y"
   },
   "outputs": [],
   "source": [
    "\n",
    "# print(blue_mean)\n",
    "# print(green_mean)\n",
    "# print(red_mean)\n",
    "# def channel_norm(img, label=None):\n",
    "#     # img = np.array(img)\n",
    "#     # img[:,:,0] -= blue_mean * (1./255)\n",
    "#     # img[:,:,1] -= green_mean * (1./255)\n",
    "#     # img[:,:,2] -= red_mean * (1./255)\n",
    "#     img = tf.image.per_image_standardization(img)\n",
    "#     if label is None:\n",
    "#         return img\n",
    "#     else:\n",
    "# #       return img, label\n",
    "\n",
    "# def random_blurr(img, label=None):\n",
    "#   with tf.device('/device:GPU:0'):\n",
    "#     go = np.random.randint(0,10)\n",
    "#     if go > 6:\n",
    "# #         num = np.random.randint(10,30)\n",
    "# #         kernel = np.ones((num,num),'float')*( 1.0 / (num*num) )\n",
    "# #         img = cv2.filter2D(img,-1,kernel)\n",
    "#         num = np.random.randint(5,12)\n",
    "#         img = cv2.blur(img, (num,num))\n",
    "#     if label is None:\n",
    "#         return img\n",
    "#     else:\n",
    "#         return img, label\n",
    "   \n",
    "\n",
    "\n",
    "# img = random_blurr(cv2.imread(train_df.path[1800]))\n",
    "# plt.imshow(img)\n",
    "# print(img)"
   ]
  },
  {
   "cell_type": "code",
   "execution_count": 27,
   "metadata": {
    "colab": {},
    "colab_type": "code",
    "id": "Nmn_SY8YpABR"
   },
   "outputs": [],
   "source": [
    " \n",
    "# def decode_image(filename, label=None, image_size=(256, 256)):\n",
    "#   with tf.device('/device:GPU:0'):\n",
    "#     bits = tf.io.read_file(filename)\n",
    "#     image = tf.image.decode_jpeg(bits, channels=3)\n",
    "#     image = tf.cast(image, tf.float64)\n",
    "#     # image = image / 255.0\n",
    "#     image = np.array(img).astype('float64')\n",
    "#     image[:,:,2] -= blue_mean \n",
    "#     image[:,:,1] -= green_mean \n",
    "#     image[:,:,0] -= red_mean \n",
    "#     image = tf.cast(image, tf.float32)\n",
    "#     # image = image - means\n",
    "    \n",
    "#     image = tf.image.resize(image, image_size)\n",
    "#     if label is None:\n",
    "#         return image\n",
    "#     else:\n",
    "#         return image, label\n",
    "\n",
    "\n",
    "# def data_augment(image, label=None):\n",
    "#   with tf.device('/device:GPU:0'):\n",
    "#     image = tf.image.random_flip_left_right(image)\n",
    "#     image = tf.image.random_flip_up_down(image)\n",
    "#     # num = np.random.randint(1,10)\n",
    "#     # image = tf.cast(image, tf.uint8)\n",
    "#     # image = cv2.blur(src=image, ksize=(num,num))\n",
    "#     image = tf.image.random_brightness(image,max_delta=0.2)\n",
    "#     # image = tf.image.random_saturation(image,lower=5, upper=10)\n",
    "#     image = tf.image.random_hue(image, max_delta=0.2)\n",
    "#     # image = tf.image.per_image_standardization(image)\n",
    "#     if label is None:\n",
    "#         return image\n",
    "#     else:\n",
    "#         return image, label"
   ]
  },
  {
   "cell_type": "code",
   "execution_count": 28,
   "metadata": {
    "colab": {},
    "colab_type": "code",
    "id": "qXVMk2qhH8yD"
   },
   "outputs": [],
   "source": [
    "# !pip install kaggle_datasets"
   ]
  },
  {
   "cell_type": "code",
   "execution_count": 29,
   "metadata": {
    "colab": {},
    "colab_type": "code",
    "id": "czXshW406jM2"
   },
   "outputs": [],
   "source": [
    "# # configure TPU from Colab\n",
    "# from kaggle_datasets import KaggleDatasets\n",
    "# AUTO = tf.data.experimental.AUTOTUNE\n",
    "# tpu = tf.distribute.cluster_resolver.TPUClusterResolver()\n",
    "\n",
    "# tf.config.experimental_connect_to_cluster(tpu)\n",
    "# tf.tpu.experimental.initialize_tpu_system(tpu)\n",
    "# strategy = tf.distribute.experimental.TPUStrategy(tpu)\n",
    "\n",
    "# BATCH_SIZE = 16 * strategy.num_replicas_in_sync\n",
    "# GCS_DS_PATH = KaggleDatasets().get_gcs_path()"
   ]
  },
  {
   "cell_type": "markdown",
   "metadata": {
    "colab_type": "text",
    "id": "kL6f6py1uWAk"
   },
   "source": [
    "# TensorBoard"
   ]
  },
  {
   "cell_type": "code",
   "execution_count": 30,
   "metadata": {
    "colab": {},
    "colab_type": "code",
    "id": "IiueAipd4qr_"
   },
   "outputs": [],
   "source": [
    "# %load_ext tensorboard"
   ]
  },
  {
   "cell_type": "code",
   "execution_count": 31,
   "metadata": {
    "colab": {
     "base_uri": "https://localhost:8080/",
     "height": 408
    },
    "colab_type": "code",
    "id": "DvcTYUO-57tf",
    "outputId": "e0da8d70-8c08-41dc-a932-8b9dbcc79d78",
    "scrolled": true
   },
   "outputs": [
    {
     "data": {
      "text/plain": [
       "ERROR: Failed to launch TensorBoard (exited with 1).\n",
       "Contents of stderr:\n",
       "2020-07-15 23:14:37.076136: I tensorflow/stream_executor/platform/default/dso_loader.cc:48] Successfully opened dynamic library libcudart.so.10.1\n",
       "Traceback (most recent call last):\n",
       "  File \"/usr/local/bin/tensorboard\", line 8, in <module>\n",
       "    sys.exit(run_main())\n",
       "  File \"/usr/local/lib/python3.6/dist-packages/tensorboard/main.py\", line 75, in run_main\n",
       "    app.run(tensorboard.main, flags_parser=tensorboard.configure)\n",
       "  File \"/usr/local/lib/python3.6/dist-packages/absl/app.py\", line 299, in run\n",
       "    _run_main(main, args)\n",
       "  File \"/usr/local/lib/python3.6/dist-packages/absl/app.py\", line 250, in _run_main\n",
       "    sys.exit(main(argv))\n",
       "  File \"/usr/local/lib/python3.6/dist-packages/tensorboard/program.py\", line 290, in main\n",
       "    return runner(self.flags) or 0\n",
       "  File \"/usr/local/lib/python3.6/dist-packages/tensorboard/program.py\", line 306, in _run_serve_subcommand\n",
       "    server = self._make_server()\n",
       "  File \"/usr/local/lib/python3.6/dist-packages/tensorboard/program.py\", line 416, in _make_server\n",
       "    ingester.deprecated_multiplexer,\n",
       "  File \"/usr/local/lib/python3.6/dist-packages/tensorboard/backend/application.py\", line 139, in TensorBoardWSGIApp\n",
       "    auth_providers,\n",
       "  File \"/usr/local/lib/python3.6/dist-packages/tensorboard/backend/application.py\", line 242, in __init__\n",
       "    \"Duplicate plugins for name %s\" % plugin.plugin_name\n",
       "ValueError: Duplicate plugins for name projector"
      ]
     },
     "metadata": {
      "tags": []
     },
     "output_type": "display_data"
    }
   ],
   "source": [
    "# %tensorboard --logdir logs"
   ]
  },
  {
   "cell_type": "markdown",
   "metadata": {
    "colab_type": "text",
    "id": "SO7j2LtNuPU5"
   },
   "source": [
    "# Channel Normalization"
   ]
  },
  {
   "cell_type": "code",
   "execution_count": 32,
   "metadata": {
    "colab": {},
    "colab_type": "code",
    "id": "iLHz0ge2318e"
   },
   "outputs": [],
   "source": [
    "\n",
    "# def get_channel_means(path_list):\n",
    "#   with tf.device('/device:GPU:0'):\n",
    "#     blue_means = []\n",
    "#     green_means = []\n",
    "#     red_means = []\n",
    "#     counter = 1\n",
    "#     for path in path_list:\n",
    "#         img = load_image(path)\n",
    "#         blue_mean = img[:,:,0].mean()\n",
    "#         green_mean = img[:,:,1].mean()\n",
    "#         red_mean = img[:,:,2].mean()\n",
    "#         blue_means.append(blue_mean)\n",
    "#         green_means.append(green_mean)\n",
    "#         red_means.append(red_mean)\n",
    "#         if counter % 25 == 0:\n",
    "#             print('{} images calculated!'.format(counter))\n",
    "#         counter += 1\n",
    "#         # means.append([blue_mean, green_mean, red_mean])\n",
    "#     return blue_means, green_means, red_means \n"
   ]
  },
  {
   "cell_type": "code",
   "execution_count": 33,
   "metadata": {
    "colab": {},
    "colab_type": "code",
    "id": "CUAkEkeMiOpy"
   },
   "outputs": [],
   "source": [
    "@tf.function\n",
    "def chanNorm(image, label):\n",
    "  means = tf.constant([\n",
    "      [\n",
    "          [0.4043033271154857, 0.5134412407909822, 0.3131933874018047]\n",
    "      ]\n",
    "  ])\n",
    "\n",
    "  image = tf.raw_ops.Sub(x=image, y=means);\n",
    "  \n",
    "  return image, label"
   ]
  },
  {
   "cell_type": "markdown",
   "metadata": {
    "colab_type": "text",
    "id": "yG-rTziG0g3p"
   },
   "source": [
    " # BELOW ARE MODELS USING OLDER IMGAGEDATAGEN FLOW"
   ]
  },
  {
   "cell_type": "code",
   "execution_count": 34,
   "metadata": {
    "colab": {},
    "colab_type": "code",
    "id": "IiZ6Bh2u5VVw"
   },
   "outputs": [],
   "source": [
    "# create an augmented image generator \n",
    "# might be better to horizontally crop the images to square then resize down to 512x512\n",
    "# or add canny edges detection to crop down the final images or something.  very differing background noise \n",
    "# some images have hands as background, other have sky, others have ground, others have other plants\n",
    "\n",
    "\n",
    "# val_image_gen_ = tf.keras.preprocessing.image.ImageDataGenerator(rescale=1./255, \n",
    "#                                                                   featurewise_center=True)\n",
    "# valGen_ = val_image_gen_.flow_from_dataframe(test_df,\n",
    "#                                              directory=None, \n",
    "#                                              x_col='path',\n",
    "#                                              y_col=['healthy','multiple_diseases','rust','scab'],\n",
    "#                                              batch_size=BATCH_SIZE, \n",
    "#                                              class_mode='raw', \n",
    "#                                              target_size=(imgH,imgW)\n",
    "#                                              )\n",
    "\n",
    "# val_image_gen_.mean = [red_mean, green_mean, blue_mean]\n",
    "\n",
    "\n",
    "# image_generator_ = tf.keras.preprocessing.image.ImageDataGenerator(rescale=1./255, \n",
    "#                                                                     rotation_range=90, \n",
    "#                                                                     width_shift_range=0.05,\n",
    "#                                                                     height_shift_range=0.05, \n",
    "#                                                                     horizontal_flip=True, \n",
    "#                                                                     vertical_flip=True,\n",
    "#                                                                     zoom_range=0.05,\n",
    "#                                                                     featurewise_center=True, \n",
    "#                                                                     preprocessing_function=random_blurr)\n",
    "\n",
    "# traindataGen_ = image_generator_.flow_from_dataframe(train_df, \n",
    "#                                                      directory=None, \n",
    "#                                                      x_col='path', \n",
    "#                                                      y_col=['healthy','multiple_diseases','rust','scab'],\n",
    "#                                                      target_size=(imgH,imgW), \n",
    "#                                                      batch_size=BATCH_SIZE, \n",
    "#                                                      class_mode='raw'\n",
    "#                                                      )\n",
    "\n",
    "# image_generator_.mean = [red_mean, green_mean, blue_mean]"
   ]
  },
  {
   "cell_type": "markdown",
   "metadata": {
    "colab_type": "text",
    "id": "c_BNkgcNR7Hy"
   },
   "source": [
    "# image_dataset_from_directory![alt text](https://)"
   ]
  },
  {
   "cell_type": "code",
   "execution_count": 35,
   "metadata": {
    "colab": {},
    "colab_type": "code",
    "id": "LOoUPfVAHb53"
   },
   "outputs": [],
   "source": [
    "# BATCH_SIZE = 64                                              # GPU\n",
    "BATCH_SIZE = 16 * tpu_strategy.num_replicas_in_sync            # TPU\n",
    "\n",
    "imgH = 256\n",
    "imgW = 256\n",
    "\n",
    "VAL_SPLIT = 0.3"
   ]
  },
  {
   "cell_type": "code",
   "execution_count": 36,
   "metadata": {
    "colab": {},
    "colab_type": "code",
    "id": "5e3RQm28SHcd"
   },
   "outputs": [],
   "source": [
    "## directory is being built in another notebook\n",
    "directory = \"/content/images/classed\""
   ]
  },
  {
   "cell_type": "code",
   "execution_count": 37,
   "metadata": {
    "colab": {
     "base_uri": "https://localhost:8080/",
     "height": 85
    },
    "colab_type": "code",
    "id": "_09CKtCnupbq",
    "outputId": "8f914536-5da0-4442-fb3d-5de0f33b5950"
   },
   "outputs": [
    {
     "name": "stdout",
     "output_type": "stream",
     "text": [
      "Found 1821 files belonging to 4 classes.\n",
      "Using 1275 files for training.\n",
      "Found 1821 files belonging to 4 classes.\n",
      "Using 546 files for validation.\n"
     ]
    }
   ],
   "source": [
    "## requires tf_nightly   | can use this to make test_ds just leave label_mode as None\n",
    "\n",
    "train_ds = tf.keras.preprocessing.image_dataset_from_directory(\n",
    "                                                              directory, \n",
    "                                                              labels='inferred', \n",
    "                                                              label_mode='categorical', \n",
    "                                                              class_names=[class_ for class_ in labels.columns[1:5].values],\n",
    "                                                              color_mode='rgb', \n",
    "                                                              batch_size=BATCH_SIZE, \n",
    "                                                              image_size=(imgH, imgW), \n",
    "                                                              shuffle=True, \n",
    "                                                              seed=1234,\n",
    "                                                              validation_split=VAL_SPLIT, \n",
    "                                                              subset='training', \n",
    "                                                              interpolation='bilinear', \n",
    "                                                              follow_links=False\n",
    ")\n",
    "\n",
    "val_ds = tf.keras.preprocessing.image_dataset_from_directory(\n",
    "                                                              directory, \n",
    "                                                              labels='inferred', \n",
    "                                                              label_mode='categorical', \n",
    "                                                              class_names=[class_ for class_ in labels.columns[1:5].values],\n",
    "                                                              color_mode='rgb', \n",
    "                                                              batch_size=BATCH_SIZE, \n",
    "                                                              image_size=(imgH, imgW), \n",
    "                                                              shuffle=True, \n",
    "                                                              seed=1234,\n",
    "                                                              validation_split=VAL_SPLIT, \n",
    "                                                              subset='validation', \n",
    "                                                              interpolation='bilinear', \n",
    "                                                              follow_links=False\n",
    ")"
   ]
  },
  {
   "cell_type": "code",
   "execution_count": 38,
   "metadata": {
    "colab": {},
    "colab_type": "code",
    "id": "fMo45Jj5JSpD"
   },
   "outputs": [],
   "source": [
    "train_ds = train_ds.map(chanNorm, num_parallel_calls=tf.data.experimental.AUTOTUNE).prefetch(tf.data.experimental.AUTOTUNE).cache()\n",
    "\n",
    "# .map(random_blurr, num_parallel_calls=tf.data.experimental.AUTOTUNE)\n",
    "\n",
    "\n",
    "val_ds = val_ds.prefetch(tf.data.experimental.AUTOTUNE).cache()"
   ]
  },
  {
   "cell_type": "markdown",
   "metadata": {
    "colab_type": "text",
    "id": "7swoXIsAzFzd"
   },
   "source": [
    "# Build Model"
   ]
  },
  {
   "cell_type": "code",
   "execution_count": 80,
   "metadata": {
    "colab": {},
    "colab_type": "code",
    "id": "AV9YXl06-TII"
   },
   "outputs": [],
   "source": [
    "def create_model():\n",
    "  return tf.keras.models.Sequential([\n",
    "                                     \n",
    "    tf.keras.layers.experimental.preprocessing.Rescaling(1.0 / 255),\n",
    "\n",
    "    tf.keras.layers.experimental.preprocessing.RandomFlip(\"horizontal\"),\n",
    "\n",
    "    tf.keras.layers.experimental.preprocessing.RandomRotation(0.25),\n",
    "                                     \n",
    "    tf.keras.layers.experimental.preprocessing.RandomTranslation(0.5, 0.5, \n",
    "                                                                 fill_mode='wrap', \n",
    "                                                                 interpolation='bilinear', \n",
    "                                                                 seed=1234),\n",
    "\n",
    "    tf.keras.layers.Conv2D(filters=32,\n",
    "                           kernel_size=(3,3), \n",
    "                           activation='relu', \n",
    "                           input_shape=(imgH, imgW,3), \n",
    "                           padding='valid',\n",
    "                           data_format='channels_last'),\n",
    "\n",
    "    tf.keras.layers.Conv2D(32, (3,3), \n",
    "                           activation='relu', \n",
    "                           padding='valid'),\n",
    "\n",
    "    tf.keras.layers.MaxPooling2D(),\n",
    "\n",
    "    tf.keras.layers.Dropout(0.1),\n",
    "\n",
    "    tf.keras.layers.Conv2D(64, (3,3), \n",
    "                           activation='relu', \n",
    "                           padding='same'),\n",
    "\n",
    "    tf.keras.layers.Conv2D(64, (3,3), \n",
    "                           activation='relu', \n",
    "                           padding='same',\n",
    "                           dilation_rate=2),\n",
    "\n",
    "    tf.keras.layers.MaxPooling2D(),\n",
    "\n",
    "    tf.keras.layers.Dropout(0.1),\n",
    "\n",
    "    tf.keras.layers.Conv2D(128, (3,3), \n",
    "                           activation='relu', \n",
    "                           padding='same'),\n",
    "\n",
    "    tf.keras.layers.Conv2D(128, (3,3), \n",
    "                           activation='relu', \n",
    "                           padding='same',\n",
    "                           dilation_rate=2),\n",
    "\n",
    "    tf.keras.layers.MaxPooling2D(),\n",
    "\n",
    "    tf.keras.layers.Dropout(0.1),\n",
    "\n",
    "    tf.keras.layers.Flatten(),\n",
    "\n",
    "    # Begin NN\n",
    "    tf.keras.layers.Dense(512, \n",
    "                          activation='relu'),\n",
    "\n",
    "    tf.keras.layers.Dense(4, \n",
    "                          activation='softmax')\n",
    "])\n"
   ]
  },
  {
   "cell_type": "code",
   "execution_count": 81,
   "metadata": {
    "colab": {
     "base_uri": "https://localhost:8080/",
     "height": 799
    },
    "colab_type": "code",
    "id": "KLJO_nT45ig5",
    "outputId": "27ec3f53-caf3-4064-9ed2-997d6dedaae2",
    "scrolled": true
   },
   "outputs": [
    {
     "name": "stdout",
     "output_type": "stream",
     "text": [
      "Model: \"sequential_4\"\n",
      "_________________________________________________________________\n",
      "Layer (type)                 Output Shape              Param #   \n",
      "=================================================================\n",
      "rescaling_4 (Rescaling)      (None, 256, 256, 3)       0         \n",
      "_________________________________________________________________\n",
      "random_flip_4 (RandomFlip)   (None, 256, 256, 3)       0         \n",
      "_________________________________________________________________\n",
      "random_rotation_4 (RandomRot (None, 256, 256, 3)       0         \n",
      "_________________________________________________________________\n",
      "random_translation_4 (Random (None, 256, 256, 3)       0         \n",
      "_________________________________________________________________\n",
      "conv2d_24 (Conv2D)           (None, 254, 254, 32)      896       \n",
      "_________________________________________________________________\n",
      "conv2d_25 (Conv2D)           (None, 252, 252, 32)      9248      \n",
      "_________________________________________________________________\n",
      "max_pooling2d_12 (MaxPooling (None, 126, 126, 32)      0         \n",
      "_________________________________________________________________\n",
      "dropout_12 (Dropout)         (None, 126, 126, 32)      0         \n",
      "_________________________________________________________________\n",
      "conv2d_26 (Conv2D)           (None, 126, 126, 64)      18496     \n",
      "_________________________________________________________________\n",
      "conv2d_27 (Conv2D)           (None, 126, 126, 64)      36928     \n",
      "_________________________________________________________________\n",
      "max_pooling2d_13 (MaxPooling (None, 63, 63, 64)        0         \n",
      "_________________________________________________________________\n",
      "dropout_13 (Dropout)         (None, 63, 63, 64)        0         \n",
      "_________________________________________________________________\n",
      "conv2d_28 (Conv2D)           (None, 63, 63, 128)       73856     \n",
      "_________________________________________________________________\n",
      "conv2d_29 (Conv2D)           (None, 63, 63, 128)       147584    \n",
      "_________________________________________________________________\n",
      "max_pooling2d_14 (MaxPooling (None, 31, 31, 128)       0         \n",
      "_________________________________________________________________\n",
      "dropout_14 (Dropout)         (None, 31, 31, 128)       0         \n",
      "_________________________________________________________________\n",
      "flatten_4 (Flatten)          (None, 123008)            0         \n",
      "_________________________________________________________________\n",
      "dense_8 (Dense)              (None, 512)               62980608  \n",
      "_________________________________________________________________\n",
      "dense_9 (Dense)              (None, 4)                 2052      \n",
      "=================================================================\n",
      "Total params: 63,269,668\n",
      "Trainable params: 63,269,668\n",
      "Non-trainable params: 0\n",
      "_________________________________________________________________\n"
     ]
    }
   ],
   "source": [
    "with  strategy.scope():    # tf.device('/device:GPU:0'):\n",
    "  model = create_model()\n",
    "  model.build(input_shape=(None, imgH, imgW, 3))\n",
    "  model.summary()\n",
    "\n",
    "  model.compile(optimizer='adam',\n",
    "                loss='categorical_crossentropy',\n",
    "                metrics=['categorical_accuracy']\n",
    "                 )\n"
   ]
  },
  {
   "cell_type": "code",
   "execution_count": 82,
   "metadata": {
    "colab": {},
    "colab_type": "code",
    "id": "8n2SUt56EwPV"
   },
   "outputs": [],
   "source": [
    "EPOCHS = 1000"
   ]
  },
  {
   "cell_type": "code",
   "execution_count": 83,
   "metadata": {
    "colab": {},
    "colab_type": "code",
    "id": "9aAwYxhmoAD5"
   },
   "outputs": [],
   "source": [
    "stop = tf.keras.callbacks.EarlyStopping(patience=25,\n",
    "                                        monitor='val_loss')"
   ]
  },
  {
   "cell_type": "markdown",
   "metadata": {
    "colab_type": "text",
    "id": "TI3JSqrsr1RH"
   },
   "source": [
    "# Train Model"
   ]
  },
  {
   "cell_type": "code",
   "execution_count": 84,
   "metadata": {
    "colab": {
     "base_uri": "https://localhost:8080/",
     "height": 1000
    },
    "colab_type": "code",
    "id": "uJ_hK5qI-Y5P",
    "outputId": "b769d4bc-8d1d-455c-ac90-5b2a35868b49"
   },
   "outputs": [
    {
     "name": "stdout",
     "output_type": "stream",
     "text": [
      "Epoch 1/1000\n",
      "20/20 [==============================] - 5s 255ms/step - loss: 2.0650 - categorical_accuracy: 0.3310 - val_loss: 1.2694 - val_categorical_accuracy: 0.3407\n",
      "Epoch 2/1000\n",
      "20/20 [==============================] - 5s 246ms/step - loss: 1.2582 - categorical_accuracy: 0.3208 - val_loss: 1.2702 - val_categorical_accuracy: 0.3407\n",
      "Epoch 3/1000\n",
      "20/20 [==============================] - 5s 246ms/step - loss: 1.2577 - categorical_accuracy: 0.3129 - val_loss: 1.2687 - val_categorical_accuracy: 0.2729\n",
      "Epoch 4/1000\n",
      "20/20 [==============================] - 5s 246ms/step - loss: 1.2435 - categorical_accuracy: 0.3482 - val_loss: 1.2359 - val_categorical_accuracy: 0.3425\n",
      "Epoch 5/1000\n",
      "20/20 [==============================] - 5s 246ms/step - loss: 1.2321 - categorical_accuracy: 0.3718 - val_loss: 1.2241 - val_categorical_accuracy: 0.3626\n",
      "Epoch 6/1000\n",
      "20/20 [==============================] - 5s 246ms/step - loss: 1.2183 - categorical_accuracy: 0.3937 - val_loss: 1.2247 - val_categorical_accuracy: 0.3150\n",
      "Epoch 7/1000\n",
      "20/20 [==============================] - 5s 245ms/step - loss: 1.2124 - categorical_accuracy: 0.4016 - val_loss: 1.2089 - val_categorical_accuracy: 0.3260\n",
      "Epoch 8/1000\n",
      "20/20 [==============================] - 5s 246ms/step - loss: 1.2066 - categorical_accuracy: 0.4024 - val_loss: 1.2028 - val_categorical_accuracy: 0.3425\n",
      "Epoch 9/1000\n",
      "20/20 [==============================] - 5s 246ms/step - loss: 1.2053 - categorical_accuracy: 0.3827 - val_loss: 1.1930 - val_categorical_accuracy: 0.3571\n",
      "Epoch 10/1000\n",
      "20/20 [==============================] - 5s 245ms/step - loss: 1.2000 - categorical_accuracy: 0.3976 - val_loss: 1.1898 - val_categorical_accuracy: 0.4048\n",
      "Epoch 11/1000\n",
      "20/20 [==============================] - 5s 246ms/step - loss: 1.1948 - categorical_accuracy: 0.4047 - val_loss: 1.1843 - val_categorical_accuracy: 0.3919\n",
      "Epoch 12/1000\n",
      "20/20 [==============================] - 5s 245ms/step - loss: 1.1929 - categorical_accuracy: 0.4141 - val_loss: 1.1767 - val_categorical_accuracy: 0.4103\n",
      "Epoch 13/1000\n",
      "20/20 [==============================] - 5s 245ms/step - loss: 1.1833 - categorical_accuracy: 0.4337 - val_loss: 1.2208 - val_categorical_accuracy: 0.3260\n",
      "Epoch 14/1000\n",
      "20/20 [==============================] - 5s 246ms/step - loss: 1.1823 - categorical_accuracy: 0.4204 - val_loss: 1.1858 - val_categorical_accuracy: 0.3736\n",
      "Epoch 15/1000\n",
      "20/20 [==============================] - 5s 245ms/step - loss: 1.1806 - categorical_accuracy: 0.4251 - val_loss: 1.1812 - val_categorical_accuracy: 0.3810\n",
      "Epoch 16/1000\n",
      "20/20 [==============================] - 5s 246ms/step - loss: 1.1793 - categorical_accuracy: 0.4227 - val_loss: 1.1862 - val_categorical_accuracy: 0.3993\n",
      "Epoch 17/1000\n",
      "20/20 [==============================] - 5s 246ms/step - loss: 1.1857 - categorical_accuracy: 0.4047 - val_loss: 1.1702 - val_categorical_accuracy: 0.4744\n",
      "Epoch 18/1000\n",
      "20/20 [==============================] - 5s 245ms/step - loss: 1.1724 - categorical_accuracy: 0.4455 - val_loss: 1.1766 - val_categorical_accuracy: 0.4029\n",
      "Epoch 19/1000\n",
      "20/20 [==============================] - 5s 245ms/step - loss: 1.1707 - categorical_accuracy: 0.4353 - val_loss: 1.1798 - val_categorical_accuracy: 0.3883\n",
      "Epoch 20/1000\n",
      "20/20 [==============================] - 5s 246ms/step - loss: 1.1746 - categorical_accuracy: 0.4282 - val_loss: 1.1816 - val_categorical_accuracy: 0.4121\n",
      "Epoch 21/1000\n",
      "20/20 [==============================] - 5s 246ms/step - loss: 1.1746 - categorical_accuracy: 0.4400 - val_loss: 1.2549 - val_categorical_accuracy: 0.3462\n",
      "Epoch 22/1000\n",
      "20/20 [==============================] - 5s 245ms/step - loss: 1.1621 - categorical_accuracy: 0.4447 - val_loss: 1.2471 - val_categorical_accuracy: 0.3846\n",
      "Epoch 23/1000\n",
      "20/20 [==============================] - 5s 246ms/step - loss: 1.1417 - categorical_accuracy: 0.4878 - val_loss: 1.1338 - val_categorical_accuracy: 0.4780\n",
      "Epoch 24/1000\n",
      "20/20 [==============================] - 5s 246ms/step - loss: 1.0655 - categorical_accuracy: 0.5773 - val_loss: 1.0878 - val_categorical_accuracy: 0.5696\n",
      "Epoch 25/1000\n",
      "20/20 [==============================] - 5s 245ms/step - loss: 1.0771 - categorical_accuracy: 0.5796 - val_loss: 1.0125 - val_categorical_accuracy: 0.6465\n",
      "Epoch 26/1000\n",
      "20/20 [==============================] - 5s 245ms/step - loss: 0.9195 - categorical_accuracy: 0.6424 - val_loss: 0.8644 - val_categorical_accuracy: 0.6850\n",
      "Epoch 27/1000\n",
      "20/20 [==============================] - 5s 246ms/step - loss: 0.8022 - categorical_accuracy: 0.6957 - val_loss: 0.7397 - val_categorical_accuracy: 0.7363\n",
      "Epoch 28/1000\n",
      "20/20 [==============================] - 5s 246ms/step - loss: 0.7098 - categorical_accuracy: 0.7333 - val_loss: 0.8428 - val_categorical_accuracy: 0.6685\n",
      "Epoch 29/1000\n",
      "20/20 [==============================] - 5s 247ms/step - loss: 0.6823 - categorical_accuracy: 0.7435 - val_loss: 0.6714 - val_categorical_accuracy: 0.7637\n",
      "Epoch 30/1000\n",
      "20/20 [==============================] - 5s 245ms/step - loss: 0.6707 - categorical_accuracy: 0.7325 - val_loss: 0.6354 - val_categorical_accuracy: 0.7637\n",
      "Epoch 31/1000\n",
      "20/20 [==============================] - 5s 246ms/step - loss: 0.6657 - categorical_accuracy: 0.7522 - val_loss: 0.7250 - val_categorical_accuracy: 0.7033\n",
      "Epoch 32/1000\n",
      "20/20 [==============================] - 5s 245ms/step - loss: 0.6277 - categorical_accuracy: 0.7435 - val_loss: 0.6147 - val_categorical_accuracy: 0.7601\n",
      "Epoch 33/1000\n",
      "20/20 [==============================] - 5s 245ms/step - loss: 0.5939 - categorical_accuracy: 0.7624 - val_loss: 0.5910 - val_categorical_accuracy: 0.7656\n",
      "Epoch 34/1000\n",
      "20/20 [==============================] - 5s 245ms/step - loss: 0.6048 - categorical_accuracy: 0.7584 - val_loss: 0.6376 - val_categorical_accuracy: 0.7601\n",
      "Epoch 35/1000\n",
      "20/20 [==============================] - 5s 246ms/step - loss: 0.5925 - categorical_accuracy: 0.7616 - val_loss: 0.6298 - val_categorical_accuracy: 0.7674\n",
      "Epoch 36/1000\n",
      "20/20 [==============================] - 5s 245ms/step - loss: 0.5544 - categorical_accuracy: 0.7749 - val_loss: 0.6577 - val_categorical_accuracy: 0.7363\n",
      "Epoch 37/1000\n",
      "20/20 [==============================] - 5s 245ms/step - loss: 0.5735 - categorical_accuracy: 0.7569 - val_loss: 0.6592 - val_categorical_accuracy: 0.7344\n",
      "Epoch 38/1000\n",
      "20/20 [==============================] - 5s 245ms/step - loss: 0.5923 - categorical_accuracy: 0.7451 - val_loss: 0.6267 - val_categorical_accuracy: 0.7289\n",
      "Epoch 39/1000\n",
      "20/20 [==============================] - 5s 245ms/step - loss: 0.5520 - categorical_accuracy: 0.7804 - val_loss: 0.6078 - val_categorical_accuracy: 0.7692\n",
      "Epoch 40/1000\n",
      "20/20 [==============================] - 5s 247ms/step - loss: 0.5627 - categorical_accuracy: 0.7788 - val_loss: 0.6336 - val_categorical_accuracy: 0.7454\n",
      "Epoch 41/1000\n",
      "20/20 [==============================] - 5s 246ms/step - loss: 0.5483 - categorical_accuracy: 0.7827 - val_loss: 0.5679 - val_categorical_accuracy: 0.7656\n",
      "Epoch 42/1000\n",
      "20/20 [==============================] - 5s 246ms/step - loss: 0.5810 - categorical_accuracy: 0.7686 - val_loss: 0.6207 - val_categorical_accuracy: 0.7509\n",
      "Epoch 43/1000\n",
      "20/20 [==============================] - 5s 245ms/step - loss: 0.5148 - categorical_accuracy: 0.7859 - val_loss: 0.5677 - val_categorical_accuracy: 0.7894\n",
      "Epoch 44/1000\n",
      "20/20 [==============================] - 5s 245ms/step - loss: 0.5178 - categorical_accuracy: 0.7992 - val_loss: 0.6813 - val_categorical_accuracy: 0.6850\n",
      "Epoch 45/1000\n",
      "20/20 [==============================] - 5s 245ms/step - loss: 0.4988 - categorical_accuracy: 0.7976 - val_loss: 0.5605 - val_categorical_accuracy: 0.7656\n",
      "Epoch 46/1000\n",
      "20/20 [==============================] - 5s 245ms/step - loss: 0.5399 - categorical_accuracy: 0.7906 - val_loss: 0.5763 - val_categorical_accuracy: 0.7582\n",
      "Epoch 47/1000\n",
      "20/20 [==============================] - 5s 245ms/step - loss: 0.4881 - categorical_accuracy: 0.8078 - val_loss: 0.5174 - val_categorical_accuracy: 0.7912\n",
      "Epoch 48/1000\n",
      "20/20 [==============================] - 5s 245ms/step - loss: 0.4758 - categorical_accuracy: 0.8141 - val_loss: 0.4723 - val_categorical_accuracy: 0.8242\n",
      "Epoch 49/1000\n",
      "20/20 [==============================] - 5s 246ms/step - loss: 0.4003 - categorical_accuracy: 0.8478 - val_loss: 0.4922 - val_categorical_accuracy: 0.8077\n",
      "Epoch 50/1000\n",
      "20/20 [==============================] - 5s 245ms/step - loss: 0.4479 - categorical_accuracy: 0.8361 - val_loss: 0.4877 - val_categorical_accuracy: 0.8205\n",
      "Epoch 51/1000\n",
      "20/20 [==============================] - 5s 245ms/step - loss: 0.4094 - categorical_accuracy: 0.8471 - val_loss: 0.4934 - val_categorical_accuracy: 0.8040\n",
      "Epoch 52/1000\n",
      "20/20 [==============================] - 5s 246ms/step - loss: 0.4191 - categorical_accuracy: 0.8431 - val_loss: 0.4598 - val_categorical_accuracy: 0.8297\n",
      "Epoch 53/1000\n",
      "20/20 [==============================] - 5s 246ms/step - loss: 0.3640 - categorical_accuracy: 0.8675 - val_loss: 0.4084 - val_categorical_accuracy: 0.8663\n",
      "Epoch 54/1000\n",
      "20/20 [==============================] - 5s 246ms/step - loss: 0.3541 - categorical_accuracy: 0.8596 - val_loss: 0.4209 - val_categorical_accuracy: 0.8462\n",
      "Epoch 55/1000\n",
      "20/20 [==============================] - 5s 246ms/step - loss: 0.3373 - categorical_accuracy: 0.8682 - val_loss: 0.4691 - val_categorical_accuracy: 0.8278\n",
      "Epoch 56/1000\n",
      "20/20 [==============================] - 5s 245ms/step - loss: 0.3474 - categorical_accuracy: 0.8729 - val_loss: 0.4169 - val_categorical_accuracy: 0.8516\n",
      "Epoch 57/1000\n",
      "20/20 [==============================] - 5s 245ms/step - loss: 0.3178 - categorical_accuracy: 0.8839 - val_loss: 0.4219 - val_categorical_accuracy: 0.8571\n",
      "Epoch 58/1000\n",
      "20/20 [==============================] - 5s 245ms/step - loss: 0.3069 - categorical_accuracy: 0.8925 - val_loss: 0.4742 - val_categorical_accuracy: 0.8278\n",
      "Epoch 59/1000\n",
      "20/20 [==============================] - 5s 246ms/step - loss: 0.2870 - categorical_accuracy: 0.8965 - val_loss: 0.4739 - val_categorical_accuracy: 0.8297\n",
      "Epoch 60/1000\n",
      "20/20 [==============================] - 5s 245ms/step - loss: 0.3316 - categorical_accuracy: 0.8761 - val_loss: 0.5507 - val_categorical_accuracy: 0.7802\n",
      "Epoch 61/1000\n",
      "20/20 [==============================] - 5s 245ms/step - loss: 0.3079 - categorical_accuracy: 0.8871 - val_loss: 0.4356 - val_categorical_accuracy: 0.8443\n",
      "Epoch 62/1000\n",
      "20/20 [==============================] - 5s 245ms/step - loss: 0.3037 - categorical_accuracy: 0.8902 - val_loss: 0.4236 - val_categorical_accuracy: 0.8407\n",
      "Epoch 63/1000\n",
      "20/20 [==============================] - 5s 246ms/step - loss: 0.2946 - categorical_accuracy: 0.8949 - val_loss: 0.4082 - val_categorical_accuracy: 0.8516\n",
      "Epoch 64/1000\n",
      "20/20 [==============================] - 5s 245ms/step - loss: 0.3177 - categorical_accuracy: 0.8863 - val_loss: 0.4196 - val_categorical_accuracy: 0.8663\n",
      "Epoch 65/1000\n",
      "20/20 [==============================] - 5s 245ms/step - loss: 0.2755 - categorical_accuracy: 0.9004 - val_loss: 0.3922 - val_categorical_accuracy: 0.8590\n",
      "Epoch 66/1000\n",
      "20/20 [==============================] - 5s 245ms/step - loss: 0.3006 - categorical_accuracy: 0.8918 - val_loss: 0.4107 - val_categorical_accuracy: 0.8535\n",
      "Epoch 67/1000\n",
      "20/20 [==============================] - 5s 246ms/step - loss: 0.3250 - categorical_accuracy: 0.8855 - val_loss: 0.4937 - val_categorical_accuracy: 0.7985\n",
      "Epoch 68/1000\n",
      "20/20 [==============================] - 5s 245ms/step - loss: 0.2837 - categorical_accuracy: 0.9020 - val_loss: 0.3747 - val_categorical_accuracy: 0.8755\n",
      "Epoch 69/1000\n",
      "20/20 [==============================] - 5s 245ms/step - loss: 0.2762 - categorical_accuracy: 0.9020 - val_loss: 0.4474 - val_categorical_accuracy: 0.8480\n",
      "Epoch 70/1000\n",
      "20/20 [==============================] - 5s 246ms/step - loss: 0.2614 - categorical_accuracy: 0.9075 - val_loss: 0.4637 - val_categorical_accuracy: 0.8553\n",
      "Epoch 71/1000\n",
      "20/20 [==============================] - 5s 245ms/step - loss: 0.2253 - categorical_accuracy: 0.9184 - val_loss: 0.4254 - val_categorical_accuracy: 0.8516\n",
      "Epoch 72/1000\n",
      "20/20 [==============================] - 5s 246ms/step - loss: 0.2259 - categorical_accuracy: 0.9161 - val_loss: 0.4533 - val_categorical_accuracy: 0.8462\n",
      "Epoch 73/1000\n",
      "20/20 [==============================] - 5s 246ms/step - loss: 0.2470 - categorical_accuracy: 0.9161 - val_loss: 0.4086 - val_categorical_accuracy: 0.8608\n",
      "Epoch 74/1000\n",
      "20/20 [==============================] - 5s 246ms/step - loss: 0.2492 - categorical_accuracy: 0.9098 - val_loss: 0.4915 - val_categorical_accuracy: 0.8242\n",
      "Epoch 75/1000\n",
      "20/20 [==============================] - 5s 246ms/step - loss: 0.2589 - categorical_accuracy: 0.8996 - val_loss: 0.4084 - val_categorical_accuracy: 0.8681\n",
      "Epoch 76/1000\n",
      "20/20 [==============================] - 5s 245ms/step - loss: 0.2231 - categorical_accuracy: 0.9239 - val_loss: 0.4286 - val_categorical_accuracy: 0.8590\n",
      "Epoch 77/1000\n",
      "20/20 [==============================] - 5s 245ms/step - loss: 0.2492 - categorical_accuracy: 0.9082 - val_loss: 0.5089 - val_categorical_accuracy: 0.8333\n",
      "Epoch 78/1000\n",
      "20/20 [==============================] - 5s 245ms/step - loss: 0.3405 - categorical_accuracy: 0.8847 - val_loss: 0.4330 - val_categorical_accuracy: 0.8480\n",
      "Epoch 79/1000\n",
      "20/20 [==============================] - 5s 245ms/step - loss: 0.2213 - categorical_accuracy: 0.9161 - val_loss: 0.3604 - val_categorical_accuracy: 0.8736\n",
      "Epoch 80/1000\n",
      "20/20 [==============================] - 5s 245ms/step - loss: 0.2330 - categorical_accuracy: 0.9208 - val_loss: 0.5792 - val_categorical_accuracy: 0.8150\n",
      "Epoch 81/1000\n",
      "20/20 [==============================] - 5s 245ms/step - loss: 0.2441 - categorical_accuracy: 0.9122 - val_loss: 0.4199 - val_categorical_accuracy: 0.8608\n",
      "Epoch 82/1000\n",
      "20/20 [==============================] - 5s 246ms/step - loss: 0.2292 - categorical_accuracy: 0.9176 - val_loss: 0.4091 - val_categorical_accuracy: 0.8755\n",
      "Epoch 83/1000\n",
      "20/20 [==============================] - 5s 245ms/step - loss: 0.2222 - categorical_accuracy: 0.9231 - val_loss: 0.4650 - val_categorical_accuracy: 0.8535\n",
      "Epoch 84/1000\n",
      "20/20 [==============================] - 5s 245ms/step - loss: 0.2326 - categorical_accuracy: 0.9137 - val_loss: 0.4871 - val_categorical_accuracy: 0.8553\n",
      "Epoch 85/1000\n",
      "20/20 [==============================] - 5s 246ms/step - loss: 0.2170 - categorical_accuracy: 0.9263 - val_loss: 0.3301 - val_categorical_accuracy: 0.8974\n",
      "Epoch 86/1000\n",
      "20/20 [==============================] - 5s 246ms/step - loss: 0.2064 - categorical_accuracy: 0.9224 - val_loss: 0.5889 - val_categorical_accuracy: 0.8242\n",
      "Epoch 87/1000\n",
      "20/20 [==============================] - 5s 246ms/step - loss: 0.2746 - categorical_accuracy: 0.9059 - val_loss: 0.4291 - val_categorical_accuracy: 0.8681\n",
      "Epoch 88/1000\n",
      "20/20 [==============================] - 5s 245ms/step - loss: 0.1997 - categorical_accuracy: 0.9247 - val_loss: 0.4492 - val_categorical_accuracy: 0.8480\n",
      "Epoch 89/1000\n",
      "20/20 [==============================] - 5s 246ms/step - loss: 0.1982 - categorical_accuracy: 0.9310 - val_loss: 0.5247 - val_categorical_accuracy: 0.8242\n",
      "Epoch 90/1000\n",
      "20/20 [==============================] - 5s 246ms/step - loss: 0.2257 - categorical_accuracy: 0.9263 - val_loss: 0.4190 - val_categorical_accuracy: 0.8700\n",
      "Epoch 91/1000\n",
      "20/20 [==============================] - 5s 245ms/step - loss: 0.2027 - categorical_accuracy: 0.9271 - val_loss: 0.4295 - val_categorical_accuracy: 0.8846\n",
      "Epoch 92/1000\n",
      "20/20 [==============================] - 5s 245ms/step - loss: 0.2184 - categorical_accuracy: 0.9192 - val_loss: 0.5028 - val_categorical_accuracy: 0.8535\n",
      "Epoch 93/1000\n",
      "20/20 [==============================] - 5s 245ms/step - loss: 0.2271 - categorical_accuracy: 0.9200 - val_loss: 0.3863 - val_categorical_accuracy: 0.8828\n",
      "Epoch 94/1000\n",
      "20/20 [==============================] - 5s 246ms/step - loss: 0.2155 - categorical_accuracy: 0.9271 - val_loss: 0.4218 - val_categorical_accuracy: 0.8791\n",
      "Epoch 95/1000\n",
      "20/20 [==============================] - 5s 246ms/step - loss: 0.1757 - categorical_accuracy: 0.9373 - val_loss: 0.4473 - val_categorical_accuracy: 0.8773\n",
      "Epoch 96/1000\n",
      "20/20 [==============================] - 5s 246ms/step - loss: 0.2246 - categorical_accuracy: 0.9294 - val_loss: 0.4568 - val_categorical_accuracy: 0.8736\n",
      "Epoch 97/1000\n",
      "20/20 [==============================] - 5s 245ms/step - loss: 0.2139 - categorical_accuracy: 0.9286 - val_loss: 0.4392 - val_categorical_accuracy: 0.8645\n",
      "Epoch 98/1000\n",
      "20/20 [==============================] - 5s 246ms/step - loss: 0.1834 - categorical_accuracy: 0.9349 - val_loss: 0.6091 - val_categorical_accuracy: 0.8315\n",
      "Epoch 99/1000\n",
      "20/20 [==============================] - 5s 246ms/step - loss: 0.1857 - categorical_accuracy: 0.9357 - val_loss: 0.6202 - val_categorical_accuracy: 0.8242\n",
      "Epoch 100/1000\n",
      "20/20 [==============================] - 5s 246ms/step - loss: 0.2363 - categorical_accuracy: 0.9137 - val_loss: 0.5983 - val_categorical_accuracy: 0.8059\n",
      "Epoch 101/1000\n",
      "20/20 [==============================] - 5s 247ms/step - loss: 0.2038 - categorical_accuracy: 0.9310 - val_loss: 0.5363 - val_categorical_accuracy: 0.8315\n",
      "Epoch 102/1000\n",
      "20/20 [==============================] - 5s 245ms/step - loss: 0.2350 - categorical_accuracy: 0.9145 - val_loss: 0.3889 - val_categorical_accuracy: 0.8736\n",
      "Epoch 103/1000\n",
      "20/20 [==============================] - 5s 246ms/step - loss: 0.1895 - categorical_accuracy: 0.9365 - val_loss: 0.4960 - val_categorical_accuracy: 0.8571\n",
      "Epoch 104/1000\n",
      "20/20 [==============================] - 5s 245ms/step - loss: 0.1797 - categorical_accuracy: 0.9325 - val_loss: 0.5458 - val_categorical_accuracy: 0.8736\n",
      "Epoch 105/1000\n",
      "20/20 [==============================] - 5s 246ms/step - loss: 0.1931 - categorical_accuracy: 0.9278 - val_loss: 0.3801 - val_categorical_accuracy: 0.8938\n",
      "Epoch 106/1000\n",
      "20/20 [==============================] - 5s 246ms/step - loss: 0.1724 - categorical_accuracy: 0.9443 - val_loss: 0.4404 - val_categorical_accuracy: 0.8956\n",
      "Epoch 107/1000\n",
      "20/20 [==============================] - 5s 245ms/step - loss: 0.1844 - categorical_accuracy: 0.9373 - val_loss: 0.4363 - val_categorical_accuracy: 0.8864\n",
      "Epoch 108/1000\n",
      "20/20 [==============================] - 5s 246ms/step - loss: 0.1644 - categorical_accuracy: 0.9427 - val_loss: 0.4524 - val_categorical_accuracy: 0.8755\n",
      "Epoch 109/1000\n",
      "20/20 [==============================] - 5s 246ms/step - loss: 0.1583 - categorical_accuracy: 0.9467 - val_loss: 0.3644 - val_categorical_accuracy: 0.9048\n",
      "Epoch 110/1000\n",
      "20/20 [==============================] - 5s 245ms/step - loss: 0.1494 - categorical_accuracy: 0.9522 - val_loss: 0.4110 - val_categorical_accuracy: 0.8938\n"
     ]
    }
   ],
   "source": [
    "history = model.fit(train_ds, \n",
    "                  epochs=EPOCHS,\n",
    "                  validation_data=val_ds,\n",
    "                  validation_batch_size=BATCH_SIZE, \n",
    "                  shuffle=True, \n",
    "                  max_queue_size=10, \n",
    "                  workers=2, \n",
    "                  use_multiprocessing=True,\n",
    "                  callbacks=[stop],\n",
    "                  verbose=1,\n",
    "                  )"
   ]
  },
  {
   "cell_type": "code",
   "execution_count": 85,
   "metadata": {
    "colab": {},
    "colab_type": "code",
    "id": "NscYli87gdp3"
   },
   "outputs": [],
   "source": [
    "hist = pd.DataFrame(history.history)\n",
    "hist['epoch'] = history.epoch"
   ]
  },
  {
   "cell_type": "code",
   "execution_count": 86,
   "metadata": {
    "colab": {
     "base_uri": "https://localhost:8080/",
     "height": 499
    },
    "colab_type": "code",
    "id": "DahxRSQp9RDp",
    "outputId": "23565838-1ae4-4cc9-8e84-4ddea5a6b8ae"
   },
   "outputs": [
    {
     "data": {
      "image/png": "[encoded data removed]",
      "text/plain": [
       "<Figure size 1080x576 with 2 Axes>"
      ]
     },
     "metadata": {
      "needs_background": "light",
      "tags": []
     },
     "output_type": "display_data"
    }
   ],
   "source": [
    "plt.figure(figsize=(15, 8))\n",
    "plt.subplot(1, 2, 1)\n",
    "plt.ylim(0, 1)\n",
    "plt.plot(hist.epoch, \n",
    "         hist.val_categorical_accuracy, \n",
    "         label=\"Validation Acccuracy\")\n",
    "plt.plot(hist.epoch, \n",
    "         hist.categorical_accuracy, \n",
    "         label=\"Train Accuracy\")\n",
    "plt.legend(loc='lower left',\n",
    "           ncol=2,\n",
    "           frameon=False)\n",
    "plt.title('Training and Validation Accuracy')\n",
    "\n",
    "plt.subplot(1, 2, 2)\n",
    "plt.plot(hist.epoch, \n",
    "         hist.val_loss, \n",
    "         label=\"Validation Loss\")\n",
    "plt.plot(hist.epoch, \n",
    "         hist.loss, \n",
    "         label=\"Train Loss\")\n",
    "plt.legend(loc='upper right',\n",
    "           ncol=2,\n",
    "           frameon=False)\n",
    "plt.title('Training and Validation Loss')\n",
    "plt.show()"
   ]
  },
  {
   "cell_type": "code",
   "execution_count": 60,
   "metadata": {
    "colab": {},
    "colab_type": "code",
    "id": "IlVEbLo-Cz0v"
   },
   "outputs": [],
   "source": [
    "label_array = labels.columns[1::]"
   ]
  },
  {
   "cell_type": "code",
   "execution_count": 61,
   "metadata": {
    "colab": {
     "base_uri": "https://localhost:8080/",
     "height": 1000
    },
    "colab_type": "code",
    "id": "88aGN6EaC3Qt",
    "outputId": "a6facf06-47ab-42d4-f1a6-10e2c96934d6"
   },
   "outputs": [
    {
     "name": "stderr",
     "output_type": "stream",
     "text": [
      "Clipping input data to the valid range for imshow with RGB data ([0..1] for floats or [0..255] for integers).\n"
     ]
    },
    {
     "data": {
      "image/png": "[encoded data removed]",
      "text/plain": [
       "<Figure size 1080x288 with 2 Axes>"
      ]
     },
     "metadata": {
      "needs_background": "light",
      "tags": []
     },
     "output_type": "display_data"
    },
    {
     "name": "stderr",
     "output_type": "stream",
     "text": [
      "Clipping input data to the valid range for imshow with RGB data ([0..1] for floats or [0..255] for integers).\n"
     ]
    },
    {
     "data": {
      "image/png": "[encoded data removed]",
      "text/plain": [
       "<Figure size 1080x288 with 2 Axes>"
      ]
     },
     "metadata": {
      "needs_background": "light",
      "tags": []
     },
     "output_type": "display_data"
    },
    {
     "name": "stderr",
     "output_type": "stream",
     "text": [
      "Clipping input data to the valid range for imshow with RGB data ([0..1] for floats or [0..255] for integers).\n"
     ]
    },
    {
     "data": {
      "image/png": "[encoded data removed]",
      "text/plain": [
       "<Figure size 1080x288 with 2 Axes>"
      ]
     },
     "metadata": {
      "needs_background": "light",
      "tags": []
     },
     "output_type": "display_data"
    },
    {
     "name": "stderr",
     "output_type": "stream",
     "text": [
      "Clipping input data to the valid range for imshow with RGB data ([0..1] for floats or [0..255] for integers).\n"
     ]
    },
    {
     "data": {
      "image/png": "[encoded data removed]",
      "text/plain": [
       "<Figure size 1080x288 with 2 Axes>"
      ]
     },
     "metadata": {
      "needs_background": "light",
      "tags": []
     },
     "output_type": "display_data"
    },
    {
     "name": "stderr",
     "output_type": "stream",
     "text": [
      "Clipping input data to the valid range for imshow with RGB data ([0..1] for floats or [0..255] for integers).\n"
     ]
    },
    {
     "data": {
      "image/png": "[encoded data removed]",
      "text/plain": [
       "<Figure size 1080x288 with 2 Axes>"
      ]
     },
     "metadata": {
      "needs_background": "light",
      "tags": []
     },
     "output_type": "display_data"
    },
    {
     "name": "stderr",
     "output_type": "stream",
     "text": [
      "Clipping input data to the valid range for imshow with RGB data ([0..1] for floats or [0..255] for integers).\n"
     ]
    },
    {
     "data": {
      "image/png": "[encoded data removed]",
      "text/plain": [
       "<Figure size 1080x288 with 2 Axes>"
      ]
     },
     "metadata": {
      "needs_background": "light",
      "tags": []
     },
     "output_type": "display_data"
    },
    {
     "name": "stderr",
     "output_type": "stream",
     "text": [
      "Clipping input data to the valid range for imshow with RGB data ([0..1] for floats or [0..255] for integers).\n"
     ]
    },
    {
     "data": {
      "image/png": "[encoded data removed]",
      "text/plain": [
       "<Figure size 1080x288 with 2 Axes>"
      ]
     },
     "metadata": {
      "needs_background": "light",
      "tags": []
     },
     "output_type": "display_data"
    },
    {
     "name": "stderr",
     "output_type": "stream",
     "text": [
      "Clipping input data to the valid range for imshow with RGB data ([0..1] for floats or [0..255] for integers).\n"
     ]
    },
    {
     "data": {
      "image/png": "[encoded data removed]",
      "text/plain": [
       "<Figure size 1080x288 with 2 Axes>"
      ]
     },
     "metadata": {
      "needs_background": "light",
      "tags": []
     },
     "output_type": "display_data"
    },
    {
     "name": "stderr",
     "output_type": "stream",
     "text": [
      "Clipping input data to the valid range for imshow with RGB data ([0..1] for floats or [0..255] for integers).\n"
     ]
    },
    {
     "data": {
      "image/png": "[encoded data removed]",
      "text/plain": [
       "<Figure size 1080x288 with 2 Axes>"
      ]
     },
     "metadata": {
      "needs_background": "light",
      "tags": []
     },
     "output_type": "display_data"
    }
   ],
   "source": [
    "label_array = labels.columns[1::]\n",
    "# plot_imgs = val_images.copy()\n",
    "tru_labels = y_test.values\n",
    "counter = 0\n",
    "for i, label in val_ds:\n",
    "    if counter <= 9:\n",
    "        # index = np.random.randint(low=0, high=len(plot_imgs), size=1)\n",
    "        # img_predicted_on = plot_imgs[index][0]\n",
    "        # full_img_path = test_df.path.values[index]\n",
    "        # full_img_path = full_img_path[0].split('.')[0] + '.jpg'\n",
    "        # img = cv2.imread(full_img_path)\n",
    "        # img = cv2.cvtColor(img, cv2.COLOR_BGR2RGB)\n",
    "        pred_array = model.predict(i)\n",
    "        pred_class = label_array[np.argmax(pred_array[0])]\n",
    "        \n",
    "        tru_class = label_array[np.argmax(label)]\n",
    "    #     if tru_class in ['healthy','rust']:\n",
    "    #         continue\n",
    "        f, ax = plt.subplots(nrows=1, ncols=2, figsize=(15,4))\n",
    "        if pred_class == tru_class:\n",
    "            pred_color = 'g'\n",
    "            tru_color = 'g'\n",
    "        else:\n",
    "            pred_color = 'r'\n",
    "            tru_color = 'g'\n",
    "            \n",
    "        ax[0].imshow(i[0])\n",
    "        ax[0].set_title('{}'.format(tru_class))\n",
    "        bar = ax[1].bar(label_array, pred_array[0], color='b')\n",
    "        bar[np.argmax(pred_array[0])].set_color(pred_color)\n",
    "        bar[np.argmax(label)].set_color(tru_color)\n",
    "        counter += 1\n",
    "        plt.show()\n",
    "    else:\n",
    "      break\n",
    "\n",
    "# counter = 0\n",
    "# for i, label in valGen_:\n",
    "#   if counter <= 9:\n",
    "#     print(i[0].shape)\n",
    "#     counter +=1 \n",
    "#   else:\n",
    "#     break"
   ]
  },
  {
   "cell_type": "code",
   "execution_count": 62,
   "metadata": {
    "colab": {},
    "colab_type": "code",
    "id": "SZWJ_cJjC47R"
   },
   "outputs": [],
   "source": [
    "# import seaborn as sns\n",
    "# confustion = tf.math.confusion_matrix(tru_labels, predictions, num_classes=4)\n",
    "# plt.figure(figsize=(15,15))\n",
    "# sns.heatmap(confusion, annot=True)"
   ]
  },
  {
   "cell_type": "code",
   "execution_count": 63,
   "metadata": {
    "colab": {
     "base_uri": "https://localhost:8080/",
     "height": 34
    },
    "colab_type": "code",
    "id": "duTnKBfzNSQg",
    "outputId": "5433709b-e6ad-4c4c-a66d-ce79c90134fb"
   },
   "outputs": [
    {
     "name": "stdout",
     "output_type": "stream",
     "text": [
      "INFO:tensorflow:Assets written to: saved_model/newestModel_local/assets\n"
     ]
    }
   ],
   "source": [
    "model.save('saved_model/newestModel_local')"
   ]
  },
  {
   "cell_type": "code",
   "execution_count": 64,
   "metadata": {
    "colab": {},
    "colab_type": "code",
    "id": "UOTOgR7vnSiG"
   },
   "outputs": [],
   "source": [
    "!cp -r saved_model/newestModel_local/ \"/content/drive/My Drive/ppk/saved_model/newestModel_local\""
   ]
  },
  {
   "cell_type": "code",
   "execution_count": null,
   "metadata": {
    "colab": {},
    "colab_type": "code",
    "id": "wrfFHCF2IRnP"
   },
   "outputs": [],
   "source": [
    "%ls"
   ]
  },
  {
   "cell_type": "markdown",
   "metadata": {
    "colab_type": "text",
    "id": "0AJARPPrrbjZ"
   },
   "source": [
    "# Test model on new data"
   ]
  },
  {
   "cell_type": "code",
   "execution_count": null,
   "metadata": {
    "colab": {},
    "colab_type": "code",
    "id": "tSM0v5jDF2k8"
   },
   "outputs": [],
   "source": [
    "test_df = pd.read_csv('test.csv')\n",
    "test_df['path'] = test_df.image_id.progress_apply(create_paths)\n",
    "test_df.path.values[:5]"
   ]
  },
  {
   "cell_type": "code",
   "execution_count": null,
   "metadata": {
    "colab": {},
    "colab_type": "code",
    "id": "qjlBdu1NI1_8"
   },
   "outputs": [],
   "source": [
    "for i,d in enumerate(test_df.path.values[:25]):\n",
    "    img = cv2.imread(d)\n",
    "    # img = cv2.resize(img, (512,512))\n",
    "    # img = img / 255\n",
    "    # img = channel_norm(img).astype('float32') \n",
    "    # img = np.array(img)\n",
    "    # img[:,:,0] -= blue_mean \n",
    "    # img[:,:,1] -= green_mean \n",
    "    # img[:,:,2] -= red_mean \n",
    "    # img = cv2.cvtColor(img, cv2.COLOR_BGR2RGB)\n",
    "    img_pred = np.expand_dims(img, 0)\n",
    "    pred = model.predict(img_pred)\n",
    "    pred = label_array[np.argmax(pred)]\n",
    "    if pred == 'rust':\n",
    "        continue\n",
    "    plt.imshow(img)\n",
    "    plt.show()\n",
    "\n",
    "    print('='*25,pred,'='*25)\n",
    "    full_im = cv2.imread(d)\n",
    "    full_im = cv2.cvtColor(full_im, cv2.COLOR_BGR2RGB)\n",
    "    plt.imshow(full_im)\n",
    "    plt.show()\n",
    "\n"
   ]
  },
  {
   "cell_type": "markdown",
   "metadata": {
    "colab_type": "text",
    "id": "TY2-jaUuCX_1"
   },
   "source": [
    "# STARTING ANOTHER MODEL FROM HERE, Transfer learning from above model to one with more augemnted and larger images"
   ]
  },
  {
   "cell_type": "code",
   "execution_count": null,
   "metadata": {
    "colab": {},
    "colab_type": "code",
    "id": "Xzl6ZOqnXO4T"
   },
   "outputs": [],
   "source": [
    "# prior = tf.keras.models.load_model('saved_model/newestModel_local')\n",
    "# prior.summary()\n",
    "# for layer in prior.layers:\n",
    "#     print(layer)"
   ]
  },
  {
   "cell_type": "code",
   "execution_count": null,
   "metadata": {
    "colab": {},
    "colab_type": "code",
    "id": "0iLqZ_dPrMri"
   },
   "outputs": [],
   "source": [
    "# batch = 32\n",
    "\n",
    "# imgH = 320\n",
    "# imgW = 512\n",
    "\n",
    "# image_generator_ = tf.keras.preprocessing.image.ImageDataGenerator(rescale=1./255, \n",
    "#                                                                     rotation_range=90, \n",
    "#                                                                     width_shift_range=0.05,\n",
    "#                                                                     height_shift_range=0.05, \n",
    "#                                                                     horizontal_flip=True, \n",
    "#                                                                     vertical_flip=True,\n",
    "#                                                                     zoom_range=0.05,\n",
    "#                                                                     featurewise_center=True, \n",
    "#                                                                     preprocessing_function=random_blurr)\n",
    "\n",
    "# val_image_gen_ = tf.keras.preprocessing.image.ImageDataGenerator(rescale=1./255, \n",
    "#                                                                   featurewise_center=True)\n",
    "\n",
    "# image_generator_.mean = [red_mean, blue_mean, green_mean]\n",
    "\n",
    "# val_image_gen_.mean = [red_mean, blue_mean, green_mean]\n",
    "\n",
    "# valGen_ = val_image_gen_.flow_from_dataframe(test_df,\n",
    "#                                              directory=None, \n",
    "#                                              x_col='path',\n",
    "#                                              y_col=['healthy','multiple_diseases','rust','scab'],\n",
    "#                                              batch_size=batch, \n",
    "#                                              class_mode='raw', \n",
    "#                                              target_size=(imgH,imgW))\n",
    "\n",
    "# traindataGen_ = image_generator_.flow_from_dataframe(train_df, \n",
    "#                                                      directory=None, \n",
    "#                                                      x_col='path', \n",
    "#                                                      y_col=['healthy','multiple_diseases','rust','scab'],\n",
    "#                                                      target_size=(imgH,imgW), \n",
    "#                                                      batch_size=batch, \n",
    "#                                                      class_mode='raw')"
   ]
  },
  {
   "cell_type": "code",
   "execution_count": null,
   "metadata": {
    "colab": {},
    "colab_type": "code",
    "id": "KBUDbr2grMrl"
   },
   "outputs": [],
   "source": [
    "# def create_new_model():\n",
    "#   model = tf.keras.models.Sequential([\n",
    "                                      \n",
    "#         tf.keras.layers.experimental.preprocessing.Rescaling(1.0 / 255),\n",
    "                                        \n",
    "#         tf.keras.layers.experimental.preprocessing.RandomFlip(\"horizontal\"),\n",
    "\n",
    "#         tf.keras.layers.experimental.preprocessing.RandomRotation(0.1),\n",
    "\n",
    "#         # tf.keras.layers.experimental.preprocessing.RandomContrast(0.1, seed=1234),\n",
    "\n",
    "#         tf.keras.layers.experimental.preprocessing.RandomTranslation(0.25, \n",
    "#                                                                       0.25, \n",
    "#                                                                       fill_mode='wrap', \n",
    "#                                                                       interpolation='bilinear', \n",
    "#                                                                       seed=1234),\n",
    "\n",
    "\n",
    "#         tf.keras.layers.Conv2D(filters=32,\n",
    "#                                 kernel_size=(3,3), \n",
    "#                                 activation='relu', \n",
    "#                                 input_shape=(imgH, imgW, 3), \n",
    "#                                 padding='valid',\n",
    "#                                 data_format='channels_last', \n",
    "#                                 name='Conv_New'),\n",
    "\n",
    "#         tf.keras.layers.MaxPool2D(name='NewPool'),\n",
    "\n",
    "#         tf.keras.layers.Dropout(0.15, \n",
    "#                                 name='NewDrop')\n",
    "#   ])\n",
    "\n",
    "#   for layer in prior.layers[5:-2]:\n",
    "#     model.add(layer)\n",
    "\n",
    "#   model.add(\n",
    "\n",
    "#           tf.keras.layers.Dense(512,\n",
    "#                                 activation='relu')\n",
    "#   )\n",
    "\n",
    "#   model.add(\n",
    "\n",
    "#           tf.keras.layers.Dropout(0.15, \n",
    "#                                   name='Dropout_new')\n",
    "#   )\n",
    "\n",
    "#   model.add(\n",
    "\n",
    "#           tf.keras.layers.Dense(4,\n",
    "#                                 activation='softmax')\n",
    "#   )\n",
    "#   return model"
   ]
  },
  {
   "cell_type": "code",
   "execution_count": null,
   "metadata": {
    "colab": {},
    "colab_type": "code",
    "id": "Vo-tPQxintOi"
   },
   "outputs": [],
   "source": [
    "# with tf.device('/device:GPU:0'):\n",
    "#   model_final = create_new_model()\n",
    "#   model_final.build(input_shape=(None, imgH, imgW, 3))\n",
    "#   model_final.compile(optimizer='adam',\n",
    "#               loss='categorical_crossentropy',\n",
    "#               metrics=['categorical_accuracy'])\n",
    "\n",
    "# model_final.summary()"
   ]
  },
  {
   "cell_type": "code",
   "execution_count": null,
   "metadata": {
    "colab": {},
    "colab_type": "code",
    "id": "1XKHtUYaIWMP"
   },
   "outputs": [],
   "source": [
    "# want to initialize the weights with pre-trained layers - want them to still train though, not using this one \n",
    "# for layer in model3.layers[3:-3]:\n",
    "#     layer.trainable = False\n",
    "\n",
    "# for layer in model3.layers:\n",
    "#     print(layer)\n",
    "#     print(layer.trainable)"
   ]
  },
  {
   "cell_type": "code",
   "execution_count": null,
   "metadata": {
    "colab": {},
    "colab_type": "code",
    "id": "w4Cmsny3jadA"
   },
   "outputs": [],
   "source": [
    "# history_final = model_final.fit(train_ds,\n",
    "#                                 epochs=EPOCHS,\n",
    "#                                 validation_data=val_ds,\n",
    "#                                 validation_batch_size=BATCH_SIZE, \n",
    "#                                 shuffle=True, \n",
    "#                                 max_queue_size=10, \n",
    "#                                 workers=2, \n",
    "#                                 use_multiprocessing=True, \n",
    "#                                 verbose=1,\n",
    "#                                 callbacks=[stop])"
   ]
  },
  {
   "cell_type": "code",
   "execution_count": null,
   "metadata": {
    "colab": {},
    "colab_type": "code",
    "id": "_rgehXFhmJej"
   },
   "outputs": [],
   "source": [
    "# hist_final = pd.DataFrame(history_final.history)\n",
    "# hist_final['epoch'] = history_final.epoch"
   ]
  },
  {
   "cell_type": "code",
   "execution_count": null,
   "metadata": {
    "colab": {},
    "colab_type": "code",
    "id": "M-klJtk4FMC0"
   },
   "outputs": [],
   "source": [
    "# plt.figure(figsize=(15, 8))\n",
    "# plt.subplot(1, 2, 1)\n",
    "# plt.ylim(0, 1)\n",
    "# plt.plot(hist_final.epoch, \n",
    "#          hist_final.val_categorical_accuracy, \n",
    "#          label=\"Validation Acccuracy\")\n",
    "# plt.plot(hist_final.epoch, \n",
    "#          hist_final.categorical_accuracy, \n",
    "#          label=\"Train Accuracy\")\n",
    "# plt.legend(loc='upper left',\n",
    "#            ncol=2,\n",
    "#            frameon=False)\n",
    "# plt.title('Training and Validation Accuracy')\n",
    "\n",
    "# plt.subplot(1, 2, 2)\n",
    "# plt.plot(hist_final.epoch, \n",
    "#          hist_final.val_loss, \n",
    "#          label=\"Validation Loss\")\n",
    "# plt.plot(hist_final.epoch, \n",
    "#          hist_final.loss, \n",
    "#          label=\"Train Loss\")\n",
    "# plt.legend(loc='upper left',\n",
    "#            ncol=2,\n",
    "#            frameon=False)\n",
    "# plt.title('Training and Validation Loss')\n",
    "# plt.show()"
   ]
  },
  {
   "cell_type": "code",
   "execution_count": null,
   "metadata": {
    "colab": {},
    "colab_type": "code",
    "id": "48ORTO2gErxy"
   },
   "outputs": [],
   "source": [
    "# label_array = labels.columns[1::]\n",
    "# # plot_imgs = val_images.copy()\n",
    "# tru_labels = y_test.values\n",
    "# counter = 0\n",
    "# for i, label in val_ds:\n",
    "#     if counter <= 9:\n",
    "#         # index = np.random.randint(low=0, high=len(plot_imgs), size=1)\n",
    "#         # img_predicted_on = plot_imgs[index][0]\n",
    "#         # full_img_path = test_df.path.values[index]\n",
    "#         # full_img_path = full_img_path[0].split('.')[0] + '.jpg'\n",
    "#         # img = cv2.imread(full_img_path)\n",
    "#         # img = cv2.cvtColor(img, cv2.COLOR_BGR2RGB)\n",
    "#         img = np.expand_dims(i[0], axis=0)\n",
    "#         pred_array = model_final.predict(img)\n",
    "#         print(pred_array)\n",
    "#         pred_class = label_array[np.argmax(pred_array)]\n",
    "        \n",
    "#         tru_class = label_array[np.argmax(label[0])]\n",
    "#     #     if tru_class in ['healthy','rust']:\n",
    "#     #         continue\n",
    "#         f, ax = plt.subplots(nrows=1, ncols=2, figsize=(15,4))\n",
    "#         if pred_class == tru_class:\n",
    "#             pred_color = 'g'\n",
    "#             tru_color = 'g'\n",
    "#         else:\n",
    "#             pred_color = 'r'\n",
    "#             tru_color = 'g'\n",
    "            \n",
    "#         ax[0].imshow(i[0])\n",
    "#         ax[0].set_title('{}'.format(tru_class))\n",
    "#         bar = ax[1].bar(label_array, pred_array[0], color='b')\n",
    "#         bar[np.argmax(pred_array[0])].set_color(pred_color)\n",
    "#         bar[np.argmax(label)].set_color(tru_color)\n",
    "#         counter += 1\n",
    "#         # plt.show()\n",
    "\n",
    "#         plt.show()\n",
    "#     else:\n",
    "#       break\n",
    "\n",
    "# # counter = 0\n",
    "# # for i, label in valGen_:\n",
    "# #   if counter <= 9:\n",
    "# #     print(i[0].shape)\n",
    "# #     counter +=1 \n",
    "# #   else:\n",
    "# #     break"
   ]
  },
  {
   "cell_type": "code",
   "execution_count": null,
   "metadata": {
    "colab": {},
    "colab_type": "code",
    "id": "z91kSO1r64S_"
   },
   "outputs": [],
   "source": [
    "# model_final.save('saved_model/final')"
   ]
  },
  {
   "cell_type": "code",
   "execution_count": null,
   "metadata": {
    "colab": {},
    "colab_type": "code",
    "id": "6wizC0_B-zKU"
   },
   "outputs": [],
   "source": [
    "# !cp -r saved_model/final \"/content/drive/My Drive/ppk/saved_model/\""
   ]
  }
 ],
 "metadata": {
  "accelerator": "GPU",
  "colab": {
   "collapsed_sections": [
    "hyM3jjn9uhoV",
    "kL6f6py1uWAk",
    "yG-rTziG0g3p",
    "c_BNkgcNR7Hy",
    "TY2-jaUuCX_1"
   ],
   "name": "Plant_Pathology_Colab.ipynb",
   "provenance": []
  },
  "kernelspec": {
   "display_name": "Python 3.8.2 64-bit",
   "language": "python",
   "name": "python38264bit0924dd10a82d4c13984f22d47a5366a8"
  },
  "language_info": {
   "codemirror_mode": {
    "name": "ipython",
    "version": 3
   },
   "file_extension": ".py",
   "mimetype": "text/x-python",
   "name": "python",
   "nbconvert_exporter": "python",
   "pygments_lexer": "ipython3",
   "version": "3.8.2"
  }
 },
 "nbformat": 4,
 "nbformat_minor": 4
}
